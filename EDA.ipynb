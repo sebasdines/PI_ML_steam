{
 "cells": [
  {
   "cell_type": "markdown",
   "metadata": {},
   "source": [
    "# EDA"
   ]
  },
  {
   "cell_type": "markdown",
   "metadata": {},
   "source": [
    "Importamos las librerias"
   ]
  },
  {
   "cell_type": "code",
   "execution_count": 147,
   "metadata": {},
   "outputs": [],
   "source": [
    "import pandas as pd\n",
    "import numpy as np\n",
    "import seaborn as sns\n",
    "import matplotlib.pyplot as plt"
   ]
  },
  {
   "cell_type": "markdown",
   "metadata": {},
   "source": [
    "Ingento los archivos"
   ]
  },
  {
   "cell_type": "code",
   "execution_count": 148,
   "metadata": {},
   "outputs": [],
   "source": [
    "games = pd.read_parquet('datasets/games.parquet')\n",
    "items = pd.read_parquet('datasets/items.parquet')\n",
    "reviews = pd.read_parquet('datasets/reviews.parquet')"
   ]
  },
  {
   "cell_type": "markdown",
   "metadata": {},
   "source": [
    "# Matriz de correlacion generos y precio"
   ]
  },
  {
   "cell_type": "code",
   "execution_count": 149,
   "metadata": {},
   "outputs": [
    {
     "data": {
      "text/html": [
       "<style type=\"text/css\">\n",
       "#T_62bf4_row0_col0, #T_62bf4_row1_col1, #T_62bf4_row2_col2, #T_62bf4_row3_col3, #T_62bf4_row4_col4, #T_62bf4_row5_col5, #T_62bf4_row6_col6, #T_62bf4_row7_col7, #T_62bf4_row8_col8, #T_62bf4_row9_col9, #T_62bf4_row10_col10, #T_62bf4_row11_col11, #T_62bf4_row12_col12, #T_62bf4_row13_col13, #T_62bf4_row14_col14, #T_62bf4_row15_col15, #T_62bf4_row16_col16, #T_62bf4_row17_col17, #T_62bf4_row18_col18, #T_62bf4_row19_col19, #T_62bf4_row20_col20, #T_62bf4_row21_col21, #T_62bf4_row22_col22 {\n",
       "  background-color: #023858;\n",
       "  color: #f1f1f1;\n",
       "}\n",
       "#T_62bf4_row0_col1, #T_62bf4_row9_col13, #T_62bf4_row11_col15 {\n",
       "  background-color: #dbdaeb;\n",
       "  color: #000000;\n",
       "}\n",
       "#T_62bf4_row0_col2, #T_62bf4_row0_col18, #T_62bf4_row6_col15, #T_62bf4_row17_col18 {\n",
       "  background-color: #e6e2ef;\n",
       "  color: #000000;\n",
       "}\n",
       "#T_62bf4_row0_col3, #T_62bf4_row0_col8, #T_62bf4_row1_col22, #T_62bf4_row3_col5, #T_62bf4_row3_col13, #T_62bf4_row6_col18, #T_62bf4_row7_col14, #T_62bf4_row7_col17, #T_62bf4_row8_col4, #T_62bf4_row8_col10, #T_62bf4_row11_col5, #T_62bf4_row11_col6, #T_62bf4_row11_col10, #T_62bf4_row13_col15, #T_62bf4_row14_col2, #T_62bf4_row14_col6, #T_62bf4_row17_col6, #T_62bf4_row19_col2, #T_62bf4_row20_col10, #T_62bf4_row22_col17 {\n",
       "  background-color: #f0eaf4;\n",
       "  color: #000000;\n",
       "}\n",
       "#T_62bf4_row0_col4, #T_62bf4_row0_col12, #T_62bf4_row0_col16, #T_62bf4_row0_col20, #T_62bf4_row2_col22, #T_62bf4_row6_col2, #T_62bf4_row21_col13 {\n",
       "  background-color: #f1ebf4;\n",
       "  color: #000000;\n",
       "}\n",
       "#T_62bf4_row0_col5, #T_62bf4_row0_col6, #T_62bf4_row4_col3, #T_62bf4_row4_col18, #T_62bf4_row9_col10, #T_62bf4_row12_col2, #T_62bf4_row16_col18, #T_62bf4_row20_col18 {\n",
       "  background-color: #eae6f1;\n",
       "  color: #000000;\n",
       "}\n",
       "#T_62bf4_row0_col7, #T_62bf4_row1_col3, #T_62bf4_row2_col12, #T_62bf4_row3_col7, #T_62bf4_row5_col11, #T_62bf4_row5_col12, #T_62bf4_row8_col7, #T_62bf4_row12_col9, #T_62bf4_row19_col7 {\n",
       "  background-color: #fcf4fa;\n",
       "  color: #000000;\n",
       "}\n",
       "#T_62bf4_row0_col9, #T_62bf4_row1_col19, #T_62bf4_row2_col8, #T_62bf4_row2_col20, #T_62bf4_row5_col8, #T_62bf4_row5_col20, #T_62bf4_row13_col12, #T_62bf4_row15_col4, #T_62bf4_row15_col9, #T_62bf4_row18_col4, #T_62bf4_row18_col16, #T_62bf4_row22_col10 {\n",
       "  background-color: #fbf3f9;\n",
       "  color: #000000;\n",
       "}\n",
       "#T_62bf4_row0_col10, #T_62bf4_row3_col12, #T_62bf4_row4_col6, #T_62bf4_row7_col22, #T_62bf4_row11_col2, #T_62bf4_row15_col14, #T_62bf4_row17_col22, #T_62bf4_row21_col1, #T_62bf4_row21_col20 {\n",
       "  background-color: #e7e3f0;\n",
       "  color: #000000;\n",
       "}\n",
       "#T_62bf4_row0_col11, #T_62bf4_row1_col9, #T_62bf4_row3_col14, #T_62bf4_row7_col8, #T_62bf4_row11_col3, #T_62bf4_row11_col7, #T_62bf4_row14_col3, #T_62bf4_row14_col13, #T_62bf4_row17_col3, #T_62bf4_row21_col17 {\n",
       "  background-color: #f5eff6;\n",
       "  color: #000000;\n",
       "}\n",
       "#T_62bf4_row0_col13, #T_62bf4_row1_col11, #T_62bf4_row3_col18, #T_62bf4_row8_col2, #T_62bf4_row14_col10 {\n",
       "  background-color: #ece7f2;\n",
       "  color: #000000;\n",
       "}\n",
       "#T_62bf4_row0_col14, #T_62bf4_row5_col1, #T_62bf4_row6_col5, #T_62bf4_row7_col21, #T_62bf4_row12_col4, #T_62bf4_row14_col11, #T_62bf4_row17_col21, #T_62bf4_row18_col17 {\n",
       "  background-color: #f4edf6;\n",
       "  color: #000000;\n",
       "}\n",
       "#T_62bf4_row0_col15, #T_62bf4_row9_col15, #T_62bf4_row16_col21 {\n",
       "  background-color: #dad9ea;\n",
       "  color: #000000;\n",
       "}\n",
       "#T_62bf4_row0_col17, #T_62bf4_row1_col14, #T_62bf4_row6_col13, #T_62bf4_row7_col3, #T_62bf4_row9_col19, #T_62bf4_row11_col21, #T_62bf4_row14_col21, #T_62bf4_row18_col11 {\n",
       "  background-color: #f3edf5;\n",
       "  color: #000000;\n",
       "}\n",
       "#T_62bf4_row0_col19, #T_62bf4_row4_col21, #T_62bf4_row17_col9, #T_62bf4_row19_col1, #T_62bf4_row22_col16 {\n",
       "  background-color: #e8e4f0;\n",
       "  color: #000000;\n",
       "}\n",
       "#T_62bf4_row0_col21, #T_62bf4_row4_col5, #T_62bf4_row5_col17, #T_62bf4_row12_col5, #T_62bf4_row12_col10, #T_62bf4_row12_col13 {\n",
       "  background-color: #eee8f3;\n",
       "  color: #000000;\n",
       "}\n",
       "#T_62bf4_row0_col22, #T_62bf4_row3_col1, #T_62bf4_row15_col22, #T_62bf4_row19_col15, #T_62bf4_row22_col4, #T_62bf4_row22_col18 {\n",
       "  background-color: #e4e1ef;\n",
       "  color: #000000;\n",
       "}\n",
       "#T_62bf4_row1_col0, #T_62bf4_row2_col0, #T_62bf4_row2_col9, #T_62bf4_row2_col17, #T_62bf4_row5_col0, #T_62bf4_row19_col9 {\n",
       "  background-color: #fef6fb;\n",
       "  color: #000000;\n",
       "}\n",
       "#T_62bf4_row1_col2, #T_62bf4_row13_col2 {\n",
       "  background-color: #d0d1e6;\n",
       "  color: #000000;\n",
       "}\n",
       "#T_62bf4_row1_col4, #T_62bf4_row1_col8, #T_62bf4_row1_col12, #T_62bf4_row1_col16, #T_62bf4_row1_col20, #T_62bf4_row3_col9, #T_62bf4_row4_col7, #T_62bf4_row4_col9, #T_62bf4_row5_col22, #T_62bf4_row6_col7, #T_62bf4_row7_col0, #T_62bf4_row8_col9, #T_62bf4_row9_col0, #T_62bf4_row11_col0, #T_62bf4_row12_col7, #T_62bf4_row14_col0, #T_62bf4_row14_col9, #T_62bf4_row15_col13, #T_62bf4_row16_col7, #T_62bf4_row16_col9, #T_62bf4_row17_col0, #T_62bf4_row20_col7, #T_62bf4_row20_col9 {\n",
       "  background-color: #fdf5fa;\n",
       "  color: #000000;\n",
       "}\n",
       "#T_62bf4_row1_col5, #T_62bf4_row1_col15, #T_62bf4_row1_col18, #T_62bf4_row5_col7, #T_62bf4_row5_col13, #T_62bf4_row6_col9, #T_62bf4_row10_col0, #T_62bf4_row10_col3, #T_62bf4_row10_col4, #T_62bf4_row10_col6, #T_62bf4_row10_col8, #T_62bf4_row10_col9, #T_62bf4_row10_col11, #T_62bf4_row10_col12, #T_62bf4_row10_col16, #T_62bf4_row10_col19, #T_62bf4_row10_col20, #T_62bf4_row10_col21, #T_62bf4_row10_col22, #T_62bf4_row13_col14, #T_62bf4_row13_col17, #T_62bf4_row15_col1, #T_62bf4_row15_col2, #T_62bf4_row15_col10, #T_62bf4_row18_col14, #T_62bf4_row21_col7 {\n",
       "  background-color: #fff7fb;\n",
       "  color: #000000;\n",
       "}\n",
       "#T_62bf4_row1_col6, #T_62bf4_row2_col3, #T_62bf4_row6_col0, #T_62bf4_row13_col4, #T_62bf4_row13_col16, #T_62bf4_row15_col8, #T_62bf4_row15_col16, #T_62bf4_row15_col20, #T_62bf4_row18_col8, #T_62bf4_row18_col20 {\n",
       "  background-color: #faf3f9;\n",
       "  color: #000000;\n",
       "}\n",
       "#T_62bf4_row1_col7, #T_62bf4_row4_col8, #T_62bf4_row7_col11, #T_62bf4_row7_col19, #T_62bf4_row8_col5, #T_62bf4_row8_col12, #T_62bf4_row8_col13, #T_62bf4_row11_col17, #T_62bf4_row13_col9, #T_62bf4_row16_col10, #T_62bf4_row20_col13, #T_62bf4_row21_col4, #T_62bf4_row22_col12 {\n",
       "  background-color: #efe9f3;\n",
       "  color: #000000;\n",
       "}\n",
       "#T_62bf4_row1_col10, #T_62bf4_row3_col21, #T_62bf4_row5_col10 {\n",
       "  background-color: #cccfe5;\n",
       "  color: #000000;\n",
       "}\n",
       "#T_62bf4_row1_col13, #T_62bf4_row9_col6, #T_62bf4_row14_col18, #T_62bf4_row17_col2, #T_62bf4_row17_col11, #T_62bf4_row18_col5, #T_62bf4_row21_col5 {\n",
       "  background-color: #f1ebf5;\n",
       "  color: #000000;\n",
       "}\n",
       "#T_62bf4_row1_col17, #T_62bf4_row2_col7, #T_62bf4_row2_col19, #T_62bf4_row3_col0, #T_62bf4_row5_col19, #T_62bf4_row6_col10, #T_62bf4_row6_col11, #T_62bf4_row8_col0, #T_62bf4_row9_col4, #T_62bf4_row9_col16, #T_62bf4_row9_col20, #T_62bf4_row11_col4, #T_62bf4_row11_col12, #T_62bf4_row13_col3, #T_62bf4_row14_col4, #T_62bf4_row14_col7, #T_62bf4_row14_col12, #T_62bf4_row15_col7, #T_62bf4_row15_col21, #T_62bf4_row17_col4, #T_62bf4_row17_col12, #T_62bf4_row17_col16, #T_62bf4_row18_col7, #T_62bf4_row18_col21, #T_62bf4_row19_col11, #T_62bf4_row20_col0, #T_62bf4_row21_col11, #T_62bf4_row22_col0 {\n",
       "  background-color: #f8f1f8;\n",
       "  color: #000000;\n",
       "}\n",
       "#T_62bf4_row1_col21, #T_62bf4_row2_col4, #T_62bf4_row2_col16, #T_62bf4_row5_col4, #T_62bf4_row5_col16, #T_62bf4_row9_col7, #T_62bf4_row15_col12, #T_62bf4_row18_col12, #T_62bf4_row22_col5 {\n",
       "  background-color: #fbf4f9;\n",
       "  color: #000000;\n",
       "}\n",
       "#T_62bf4_row2_col1 {\n",
       "  background-color: #c1cae2;\n",
       "  color: #000000;\n",
       "}\n",
       "#T_62bf4_row2_col5, #T_62bf4_row9_col5, #T_62bf4_row12_col16 {\n",
       "  background-color: #e3e0ee;\n",
       "  color: #000000;\n",
       "}\n",
       "#T_62bf4_row2_col6, #T_62bf4_row2_col11, #T_62bf4_row2_col15, #T_62bf4_row3_col11, #T_62bf4_row4_col0, #T_62bf4_row4_col11, #T_62bf4_row5_col6, #T_62bf4_row5_col9, #T_62bf4_row6_col14, #T_62bf4_row7_col4, #T_62bf4_row7_col16, #T_62bf4_row7_col20, #T_62bf4_row8_col11, #T_62bf4_row9_col8, #T_62bf4_row11_col8, #T_62bf4_row11_col16, #T_62bf4_row11_col20, #T_62bf4_row12_col0, #T_62bf4_row13_col21, #T_62bf4_row14_col8, #T_62bf4_row14_col16, #T_62bf4_row14_col20, #T_62bf4_row15_col11, #T_62bf4_row15_col19, #T_62bf4_row16_col0, #T_62bf4_row16_col11, #T_62bf4_row17_col8, #T_62bf4_row17_col13, #T_62bf4_row17_col20, #T_62bf4_row18_col1, #T_62bf4_row18_col19, #T_62bf4_row19_col0, #T_62bf4_row20_col11 {\n",
       "  background-color: #f7f0f7;\n",
       "  color: #000000;\n",
       "}\n",
       "#T_62bf4_row2_col10, #T_62bf4_row10_col2 {\n",
       "  background-color: #b8c6e0;\n",
       "  color: #000000;\n",
       "}\n",
       "#T_62bf4_row2_col13, #T_62bf4_row21_col8 {\n",
       "  background-color: #d6d6e9;\n",
       "  color: #000000;\n",
       "}\n",
       "#T_62bf4_row2_col14, #T_62bf4_row13_col0, #T_62bf4_row13_col5, #T_62bf4_row15_col0, #T_62bf4_row18_col0, #T_62bf4_row21_col9 {\n",
       "  background-color: #fef6fa;\n",
       "  color: #000000;\n",
       "}\n",
       "#T_62bf4_row2_col18, #T_62bf4_row5_col3, #T_62bf4_row7_col9, #T_62bf4_row13_col8, #T_62bf4_row13_col20, #T_62bf4_row18_col2, #T_62bf4_row18_col3, #T_62bf4_row21_col0, #T_62bf4_row22_col7 {\n",
       "  background-color: #faf2f8;\n",
       "  color: #000000;\n",
       "}\n",
       "#T_62bf4_row2_col21, #T_62bf4_row5_col14, #T_62bf4_row5_col21, #T_62bf4_row7_col12, #T_62bf4_row9_col12, #T_62bf4_row10_col14, #T_62bf4_row15_col3, #T_62bf4_row17_col7 {\n",
       "  background-color: #f9f2f8;\n",
       "  color: #000000;\n",
       "}\n",
       "#T_62bf4_row3_col2, #T_62bf4_row21_col18 {\n",
       "  background-color: #ede8f3;\n",
       "  color: #000000;\n",
       "}\n",
       "#T_62bf4_row3_col4, #T_62bf4_row4_col10, #T_62bf4_row4_col13, #T_62bf4_row5_col18, #T_62bf4_row7_col6, #T_62bf4_row12_col21, #T_62bf4_row14_col5, #T_62bf4_row16_col5, #T_62bf4_row16_col13, #T_62bf4_row19_col18, #T_62bf4_row20_col5, #T_62bf4_row21_col2 {\n",
       "  background-color: #eee9f3;\n",
       "  color: #000000;\n",
       "}\n",
       "#T_62bf4_row3_col6 {\n",
       "  background-color: #6da6cd;\n",
       "  color: #f1f1f1;\n",
       "}\n",
       "#T_62bf4_row3_col8, #T_62bf4_row3_col19, #T_62bf4_row11_col9 {\n",
       "  background-color: #80aed2;\n",
       "  color: #f1f1f1;\n",
       "}\n",
       "#T_62bf4_row3_col10, #T_62bf4_row6_col4, #T_62bf4_row11_col14, #T_62bf4_row11_col19, #T_62bf4_row14_col19, #T_62bf4_row17_col19, #T_62bf4_row18_col9, #T_62bf4_row19_col5, #T_62bf4_row19_col13 {\n",
       "  background-color: #f2ecf5;\n",
       "  color: #000000;\n",
       "}\n",
       "#T_62bf4_row3_col15, #T_62bf4_row8_col20, #T_62bf4_row12_col1, #T_62bf4_row22_col1 {\n",
       "  background-color: #e0deed;\n",
       "  color: #000000;\n",
       "}\n",
       "#T_62bf4_row3_col16, #T_62bf4_row4_col20, #T_62bf4_row6_col12 {\n",
       "  background-color: #9ebad9;\n",
       "  color: #000000;\n",
       "}\n",
       "#T_62bf4_row3_col17, #T_62bf4_row4_col14, #T_62bf4_row8_col14, #T_62bf4_row12_col14, #T_62bf4_row13_col6, #T_62bf4_row13_col7, #T_62bf4_row16_col14, #T_62bf4_row20_col14, #T_62bf4_row21_col12, #T_62bf4_row22_col9 {\n",
       "  background-color: #f5eef6;\n",
       "  color: #000000;\n",
       "}\n",
       "#T_62bf4_row3_col20, #T_62bf4_row3_col22, #T_62bf4_row19_col4 {\n",
       "  background-color: #b0c2de;\n",
       "  color: #000000;\n",
       "}\n",
       "#T_62bf4_row4_col1, #T_62bf4_row7_col13, #T_62bf4_row11_col18, #T_62bf4_row13_col1, #T_62bf4_row16_col1, #T_62bf4_row17_col5, #T_62bf4_row20_col21, #T_62bf4_row21_col16 {\n",
       "  background-color: #e1dfed;\n",
       "  color: #000000;\n",
       "}\n",
       "#T_62bf4_row4_col2, #T_62bf4_row6_col1, #T_62bf4_row8_col18, #T_62bf4_row14_col22, #T_62bf4_row16_col2, #T_62bf4_row20_col2 {\n",
       "  background-color: #ebe6f2;\n",
       "  color: #000000;\n",
       "}\n",
       "#T_62bf4_row4_col12, #T_62bf4_row4_col17, #T_62bf4_row8_col17, #T_62bf4_row9_col21, #T_62bf4_row12_col17, #T_62bf4_row16_col17, #T_62bf4_row20_col17, #T_62bf4_row21_col10, #T_62bf4_row22_col14 {\n",
       "  background-color: #f4eef6;\n",
       "  color: #000000;\n",
       "}\n",
       "#T_62bf4_row4_col15, #T_62bf4_row12_col15, #T_62bf4_row22_col21 {\n",
       "  background-color: #dedcec;\n",
       "  color: #000000;\n",
       "}\n",
       "#T_62bf4_row4_col16, #T_62bf4_row9_col18, #T_62bf4_row14_col1, #T_62bf4_row16_col4, #T_62bf4_row16_col22, #T_62bf4_row22_col8 {\n",
       "  background-color: #d9d8ea;\n",
       "  color: #000000;\n",
       "}\n",
       "#T_62bf4_row4_col19 {\n",
       "  background-color: #a4bcda;\n",
       "  color: #000000;\n",
       "}\n",
       "#T_62bf4_row4_col22, #T_62bf4_row10_col18, #T_62bf4_row13_col11, #T_62bf4_row18_col10, #T_62bf4_row20_col6 {\n",
       "  background-color: #d4d4e8;\n",
       "  color: #000000;\n",
       "}\n",
       "#T_62bf4_row5_col2, #T_62bf4_row6_col20, #T_62bf4_row8_col15, #T_62bf4_row15_col18, #T_62bf4_row17_col1, #T_62bf4_row20_col8, #T_62bf4_row20_col12 {\n",
       "  background-color: #e0dded;\n",
       "  color: #000000;\n",
       "}\n",
       "#T_62bf4_row5_col15, #T_62bf4_row16_col6 {\n",
       "  background-color: #b3c3de;\n",
       "  color: #000000;\n",
       "}\n",
       "#T_62bf4_row6_col3, #T_62bf4_row6_col19, #T_62bf4_row9_col11 {\n",
       "  background-color: #78abd0;\n",
       "  color: #f1f1f1;\n",
       "}\n",
       "#T_62bf4_row6_col8 {\n",
       "  background-color: #bbc7e0;\n",
       "  color: #000000;\n",
       "}\n",
       "#T_62bf4_row6_col16 {\n",
       "  background-color: #c2cbe2;\n",
       "  color: #000000;\n",
       "}\n",
       "#T_62bf4_row6_col17, #T_62bf4_row9_col3, #T_62bf4_row9_col14, #T_62bf4_row10_col15, #T_62bf4_row10_col17, #T_62bf4_row12_col11, #T_62bf4_row13_col19, #T_62bf4_row15_col6, #T_62bf4_row18_col6, #T_62bf4_row19_col10, #T_62bf4_row19_col14, #T_62bf4_row19_col17, #T_62bf4_row21_col14 {\n",
       "  background-color: #f6eff7;\n",
       "  color: #000000;\n",
       "}\n",
       "#T_62bf4_row6_col21 {\n",
       "  background-color: #167bb6;\n",
       "  color: #f1f1f1;\n",
       "}\n",
       "#T_62bf4_row6_col22, #T_62bf4_row7_col1 {\n",
       "  background-color: #c6cce3;\n",
       "  color: #000000;\n",
       "}\n",
       "#T_62bf4_row7_col2, #T_62bf4_row7_col18, #T_62bf4_row9_col17, #T_62bf4_row12_col22, #T_62bf4_row16_col15, #T_62bf4_row20_col15 {\n",
       "  background-color: #dfddec;\n",
       "  color: #000000;\n",
       "}\n",
       "#T_62bf4_row7_col5, #T_62bf4_row12_col8, #T_62bf4_row22_col2 {\n",
       "  background-color: #ede7f2;\n",
       "  color: #000000;\n",
       "}\n",
       "#T_62bf4_row7_col10 {\n",
       "  background-color: #c8cde4;\n",
       "  color: #000000;\n",
       "}\n",
       "#T_62bf4_row7_col15, #T_62bf4_row11_col22, #T_62bf4_row18_col15, #T_62bf4_row19_col21, #T_62bf4_row21_col22 {\n",
       "  background-color: #d5d5e8;\n",
       "  color: #000000;\n",
       "}\n",
       "#T_62bf4_row8_col1, #T_62bf4_row9_col22, #T_62bf4_row12_col3, #T_62bf4_row20_col1, #T_62bf4_row21_col15, #T_62bf4_row22_col11 {\n",
       "  background-color: #e2dfee;\n",
       "  color: #000000;\n",
       "}\n",
       "#T_62bf4_row8_col3 {\n",
       "  background-color: #7dacd1;\n",
       "  color: #f1f1f1;\n",
       "}\n",
       "#T_62bf4_row8_col6 {\n",
       "  background-color: #acc0dd;\n",
       "  color: #000000;\n",
       "}\n",
       "#T_62bf4_row8_col16 {\n",
       "  background-color: #4295c3;\n",
       "  color: #f1f1f1;\n",
       "}\n",
       "#T_62bf4_row8_col19 {\n",
       "  background-color: #89b1d4;\n",
       "  color: #000000;\n",
       "}\n",
       "#T_62bf4_row8_col21, #T_62bf4_row10_col5, #T_62bf4_row21_col3 {\n",
       "  background-color: #d1d2e6;\n",
       "  color: #000000;\n",
       "}\n",
       "#T_62bf4_row8_col22, #T_62bf4_row14_col15, #T_62bf4_row19_col22 {\n",
       "  background-color: #c9cee4;\n",
       "  color: #000000;\n",
       "}\n",
       "#T_62bf4_row9_col1, #T_62bf4_row10_col13, #T_62bf4_row21_col19, #T_62bf4_row22_col15 {\n",
       "  background-color: #d3d4e7;\n",
       "  color: #000000;\n",
       "}\n",
       "#T_62bf4_row9_col2, #T_62bf4_row12_col18, #T_62bf4_row17_col10, #T_62bf4_row18_col22 {\n",
       "  background-color: #e9e5f1;\n",
       "  color: #000000;\n",
       "}\n",
       "#T_62bf4_row10_col1 {\n",
       "  background-color: #bdc8e1;\n",
       "  color: #000000;\n",
       "}\n",
       "#T_62bf4_row10_col7, #T_62bf4_row13_col22, #T_62bf4_row16_col12, #T_62bf4_row22_col13 {\n",
       "  background-color: #e5e1ef;\n",
       "  color: #000000;\n",
       "}\n",
       "#T_62bf4_row11_col1, #T_62bf4_row13_col10 {\n",
       "  background-color: #cdd0e5;\n",
       "  color: #000000;\n",
       "}\n",
       "#T_62bf4_row11_col13, #T_62bf4_row18_col13 {\n",
       "  background-color: #c4cbe3;\n",
       "  color: #000000;\n",
       "}\n",
       "#T_62bf4_row12_col6 {\n",
       "  background-color: #8bb2d4;\n",
       "  color: #000000;\n",
       "}\n",
       "#T_62bf4_row12_col19, #T_62bf4_row16_col3 {\n",
       "  background-color: #99b8d8;\n",
       "  color: #000000;\n",
       "}\n",
       "#T_62bf4_row12_col20 {\n",
       "  background-color: #dddbec;\n",
       "  color: #000000;\n",
       "}\n",
       "#T_62bf4_row13_col18 {\n",
       "  background-color: #bcc7e1;\n",
       "  color: #000000;\n",
       "}\n",
       "#T_62bf4_row14_col17, #T_62bf4_row16_col19 {\n",
       "  background-color: #94b6d7;\n",
       "  color: #000000;\n",
       "}\n",
       "#T_62bf4_row15_col5, #T_62bf4_row20_col22 {\n",
       "  background-color: #c5cce3;\n",
       "  color: #000000;\n",
       "}\n",
       "#T_62bf4_row15_col17, #T_62bf4_row22_col6 {\n",
       "  background-color: #cacee5;\n",
       "  color: #000000;\n",
       "}\n",
       "#T_62bf4_row16_col8 {\n",
       "  background-color: #4094c3;\n",
       "  color: #f1f1f1;\n",
       "}\n",
       "#T_62bf4_row16_col20, #T_62bf4_row20_col16 {\n",
       "  background-color: #c0c9e2;\n",
       "  color: #000000;\n",
       "}\n",
       "#T_62bf4_row17_col14 {\n",
       "  background-color: #96b6d7;\n",
       "  color: #000000;\n",
       "}\n",
       "#T_62bf4_row17_col15 {\n",
       "  background-color: #a8bedc;\n",
       "  color: #000000;\n",
       "}\n",
       "#T_62bf4_row19_col3 {\n",
       "  background-color: #88b1d4;\n",
       "  color: #000000;\n",
       "}\n",
       "#T_62bf4_row19_col6 {\n",
       "  background-color: #75a9cf;\n",
       "  color: #f1f1f1;\n",
       "}\n",
       "#T_62bf4_row19_col8 {\n",
       "  background-color: #93b5d6;\n",
       "  color: #000000;\n",
       "}\n",
       "#T_62bf4_row19_col12 {\n",
       "  background-color: #a7bddb;\n",
       "  color: #000000;\n",
       "}\n",
       "#T_62bf4_row19_col16, #T_62bf4_row20_col4, #T_62bf4_row20_col19 {\n",
       "  background-color: #9fbad9;\n",
       "  color: #000000;\n",
       "}\n",
       "#T_62bf4_row19_col20 {\n",
       "  background-color: #a9bfdc;\n",
       "  color: #000000;\n",
       "}\n",
       "#T_62bf4_row20_col3 {\n",
       "  background-color: #adc1dd;\n",
       "  color: #000000;\n",
       "}\n",
       "#T_62bf4_row21_col6 {\n",
       "  background-color: #1379b5;\n",
       "  color: #f1f1f1;\n",
       "}\n",
       "#T_62bf4_row22_col3 {\n",
       "  background-color: #bfc9e1;\n",
       "  color: #000000;\n",
       "}\n",
       "#T_62bf4_row22_col19 {\n",
       "  background-color: #d2d2e7;\n",
       "  color: #000000;\n",
       "}\n",
       "#T_62bf4_row22_col20 {\n",
       "  background-color: #d7d6e9;\n",
       "  color: #000000;\n",
       "}\n",
       "</style>\n",
       "<table id=\"T_62bf4\">\n",
       "  <thead>\n",
       "    <tr>\n",
       "      <th class=\"blank level0\" >&nbsp;</th>\n",
       "      <th id=\"T_62bf4_level0_col0\" class=\"col_heading level0 col0\" >Accounting</th>\n",
       "      <th id=\"T_62bf4_level0_col1\" class=\"col_heading level0 col1\" >Action</th>\n",
       "      <th id=\"T_62bf4_level0_col2\" class=\"col_heading level0 col2\" >Adventure</th>\n",
       "      <th id=\"T_62bf4_level0_col3\" class=\"col_heading level0 col3\" >Animation&amp;Modeling</th>\n",
       "      <th id=\"T_62bf4_level0_col4\" class=\"col_heading level0 col4\" >AudioProduction</th>\n",
       "      <th id=\"T_62bf4_level0_col5\" class=\"col_heading level0 col5\" >Casual</th>\n",
       "      <th id=\"T_62bf4_level0_col6\" class=\"col_heading level0 col6\" >Design&amp;Illustration</th>\n",
       "      <th id=\"T_62bf4_level0_col7\" class=\"col_heading level0 col7\" >EarlyAccess</th>\n",
       "      <th id=\"T_62bf4_level0_col8\" class=\"col_heading level0 col8\" >Education</th>\n",
       "      <th id=\"T_62bf4_level0_col9\" class=\"col_heading level0 col9\" >FreetoPlay</th>\n",
       "      <th id=\"T_62bf4_level0_col10\" class=\"col_heading level0 col10\" >Indie</th>\n",
       "      <th id=\"T_62bf4_level0_col11\" class=\"col_heading level0 col11\" >MassivelyMultiplayer</th>\n",
       "      <th id=\"T_62bf4_level0_col12\" class=\"col_heading level0 col12\" >PhotoEditing</th>\n",
       "      <th id=\"T_62bf4_level0_col13\" class=\"col_heading level0 col13\" >RPG</th>\n",
       "      <th id=\"T_62bf4_level0_col14\" class=\"col_heading level0 col14\" >Racing</th>\n",
       "      <th id=\"T_62bf4_level0_col15\" class=\"col_heading level0 col15\" >Simulation</th>\n",
       "      <th id=\"T_62bf4_level0_col16\" class=\"col_heading level0 col16\" >SoftwareTraining</th>\n",
       "      <th id=\"T_62bf4_level0_col17\" class=\"col_heading level0 col17\" >Sports</th>\n",
       "      <th id=\"T_62bf4_level0_col18\" class=\"col_heading level0 col18\" >Strategy</th>\n",
       "      <th id=\"T_62bf4_level0_col19\" class=\"col_heading level0 col19\" >Utilities</th>\n",
       "      <th id=\"T_62bf4_level0_col20\" class=\"col_heading level0 col20\" >VideoProduction</th>\n",
       "      <th id=\"T_62bf4_level0_col21\" class=\"col_heading level0 col21\" >WebPublishing</th>\n",
       "      <th id=\"T_62bf4_level0_col22\" class=\"col_heading level0 col22\" >price</th>\n",
       "    </tr>\n",
       "  </thead>\n",
       "  <tbody>\n",
       "    <tr>\n",
       "      <th id=\"T_62bf4_level0_row0\" class=\"row_heading level0 row0\" >Accounting</th>\n",
       "      <td id=\"T_62bf4_row0_col0\" class=\"data row0 col0\" >1.000000</td>\n",
       "      <td id=\"T_62bf4_row0_col1\" class=\"data row0 col1\" >-0.012541</td>\n",
       "      <td id=\"T_62bf4_row0_col2\" class=\"data row0 col2\" >-0.009861</td>\n",
       "      <td id=\"T_62bf4_row0_col3\" class=\"data row0 col3\" >0.026780</td>\n",
       "      <td id=\"T_62bf4_row0_col4\" class=\"data row0 col4\" >0.038370</td>\n",
       "      <td id=\"T_62bf4_row0_col5\" class=\"data row0 col5\" >-0.009928</td>\n",
       "      <td id=\"T_62bf4_row0_col6\" class=\"data row0 col6\" >0.015772</td>\n",
       "      <td id=\"T_62bf4_row0_col7\" class=\"data row0 col7\" >-0.003587</td>\n",
       "      <td id=\"T_62bf4_row0_col8\" class=\"data row0 col8\" >0.032850</td>\n",
       "      <td id=\"T_62bf4_row0_col9\" class=\"data row0 col9\" >-0.004307</td>\n",
       "      <td id=\"T_62bf4_row0_col10\" class=\"data row0 col10\" >-0.017211</td>\n",
       "      <td id=\"T_62bf4_row0_col11\" class=\"data row0 col11\" >-0.003124</td>\n",
       "      <td id=\"T_62bf4_row0_col12\" class=\"data row0 col12\" >0.042325</td>\n",
       "      <td id=\"T_62bf4_row0_col13\" class=\"data row0 col13\" >-0.007562</td>\n",
       "      <td id=\"T_62bf4_row0_col14\" class=\"data row0 col14\" >-0.003092</td>\n",
       "      <td id=\"T_62bf4_row0_col15\" class=\"data row0 col15\" >-0.008610</td>\n",
       "      <td id=\"T_62bf4_row0_col16\" class=\"data row0 col16\" >0.036010</td>\n",
       "      <td id=\"T_62bf4_row0_col17\" class=\"data row0 col17\" >-0.003338</td>\n",
       "      <td id=\"T_62bf4_row0_col18\" class=\"data row0 col18\" >-0.008818</td>\n",
       "      <td id=\"T_62bf4_row0_col19\" class=\"data row0 col19\" >0.039659</td>\n",
       "      <td id=\"T_62bf4_row0_col20\" class=\"data row0 col20\" >0.034172</td>\n",
       "      <td id=\"T_62bf4_row0_col21\" class=\"data row0 col21\" >0.021681</td>\n",
       "      <td id=\"T_62bf4_row0_col22\" class=\"data row0 col22\" >0.028791</td>\n",
       "    </tr>\n",
       "    <tr>\n",
       "      <th id=\"T_62bf4_level0_row1\" class=\"row_heading level0 row1\" >Action</th>\n",
       "      <td id=\"T_62bf4_row1_col0\" class=\"data row1 col0\" >-0.012541</td>\n",
       "      <td id=\"T_62bf4_row1_col1\" class=\"data row1 col1\" >1.000000</td>\n",
       "      <td id=\"T_62bf4_row1_col2\" class=\"data row1 col2\" >0.107054</td>\n",
       "      <td id=\"T_62bf4_row1_col3\" class=\"data row1 col3\" >-0.063421</td>\n",
       "      <td id=\"T_62bf4_row1_col4\" class=\"data row1 col4\" >-0.045779</td>\n",
       "      <td id=\"T_62bf4_row1_col5\" class=\"data row1 col5\" >-0.169671</td>\n",
       "      <td id=\"T_62bf4_row1_col6\" class=\"data row1 col6\" >-0.101905</td>\n",
       "      <td id=\"T_62bf4_row1_col7\" class=\"data row1 col7\" >0.086701</td>\n",
       "      <td id=\"T_62bf4_row1_col8\" class=\"data row1 col8\" >-0.053104</td>\n",
       "      <td id=\"T_62bf4_row1_col9\" class=\"data row1 col9\" >0.032145</td>\n",
       "      <td id=\"T_62bf4_row1_col10\" class=\"data row1 col10\" >0.119743</td>\n",
       "      <td id=\"T_62bf4_row1_col11\" class=\"data row1 col11\" >0.062422</td>\n",
       "      <td id=\"T_62bf4_row1_col12\" class=\"data row1 col12\" >-0.041644</td>\n",
       "      <td id=\"T_62bf4_row1_col13\" class=\"data row1 col13\" >-0.048953</td>\n",
       "      <td id=\"T_62bf4_row1_col14\" class=\"data row1 col14\" >0.000167</td>\n",
       "      <td id=\"T_62bf4_row1_col15\" class=\"data row1 col15\" >-0.268034</td>\n",
       "      <td id=\"T_62bf4_row1_col16\" class=\"data row1 col16\" >-0.048653</td>\n",
       "      <td id=\"T_62bf4_row1_col17\" class=\"data row1 col17\" >-0.036585</td>\n",
       "      <td id=\"T_62bf4_row1_col18\" class=\"data row1 col18\" >-0.195045</td>\n",
       "      <td id=\"T_62bf4_row1_col19\" class=\"data row1 col19\" >-0.087651</td>\n",
       "      <td id=\"T_62bf4_row1_col20\" class=\"data row1 col20\" >-0.051148</td>\n",
       "      <td id=\"T_62bf4_row1_col21\" class=\"data row1 col21\" >-0.077952</td>\n",
       "      <td id=\"T_62bf4_row1_col22\" class=\"data row1 col22\" >-0.044112</td>\n",
       "    </tr>\n",
       "    <tr>\n",
       "      <th id=\"T_62bf4_level0_row2\" class=\"row_heading level0 row2\" >Adventure</th>\n",
       "      <td id=\"T_62bf4_row2_col0\" class=\"data row2 col0\" >-0.009861</td>\n",
       "      <td id=\"T_62bf4_row2_col1\" class=\"data row2 col1\" >0.107054</td>\n",
       "      <td id=\"T_62bf4_row2_col2\" class=\"data row2 col2\" >1.000000</td>\n",
       "      <td id=\"T_62bf4_row2_col3\" class=\"data row2 col3\" >-0.050576</td>\n",
       "      <td id=\"T_62bf4_row2_col4\" class=\"data row2 col4\" >-0.035998</td>\n",
       "      <td id=\"T_62bf4_row2_col5\" class=\"data row2 col5\" >0.023342</td>\n",
       "      <td id=\"T_62bf4_row2_col6\" class=\"data row2 col6\" >-0.080579</td>\n",
       "      <td id=\"T_62bf4_row2_col7\" class=\"data row2 col7\" >0.025087</td>\n",
       "      <td id=\"T_62bf4_row2_col8\" class=\"data row2 col8\" >-0.041757</td>\n",
       "      <td id=\"T_62bf4_row2_col9\" class=\"data row2 col9\" >-0.029793</td>\n",
       "      <td id=\"T_62bf4_row2_col10\" class=\"data row2 col10\" >0.190596</td>\n",
       "      <td id=\"T_62bf4_row2_col11\" class=\"data row2 col11\" >-0.012655</td>\n",
       "      <td id=\"T_62bf4_row2_col12\" class=\"data row2 col12\" >-0.032746</td>\n",
       "      <td id=\"T_62bf4_row2_col13\" class=\"data row2 col13\" >0.104666</td>\n",
       "      <td id=\"T_62bf4_row2_col14\" class=\"data row2 col14\" >-0.076042</td>\n",
       "      <td id=\"T_62bf4_row2_col15\" class=\"data row2 col15\" >-0.194361</td>\n",
       "      <td id=\"T_62bf4_row2_col16\" class=\"data row2 col16\" >-0.038258</td>\n",
       "      <td id=\"T_62bf4_row2_col17\" class=\"data row2 col17\" >-0.086272</td>\n",
       "      <td id=\"T_62bf4_row2_col18\" class=\"data row2 col18\" >-0.150484</td>\n",
       "      <td id=\"T_62bf4_row2_col19\" class=\"data row2 col19\" >-0.068923</td>\n",
       "      <td id=\"T_62bf4_row2_col20\" class=\"data row2 col20\" >-0.040220</td>\n",
       "      <td id=\"T_62bf4_row2_col21\" class=\"data row2 col21\" >-0.061297</td>\n",
       "      <td id=\"T_62bf4_row2_col22\" class=\"data row2 col22\" >-0.046951</td>\n",
       "    </tr>\n",
       "    <tr>\n",
       "      <th id=\"T_62bf4_level0_row3\" class=\"row_heading level0 row3\" >Animation&amp;Modeling</th>\n",
       "      <td id=\"T_62bf4_row3_col0\" class=\"data row3 col0\" >0.026780</td>\n",
       "      <td id=\"T_62bf4_row3_col1\" class=\"data row3 col1\" >-0.063421</td>\n",
       "      <td id=\"T_62bf4_row3_col2\" class=\"data row3 col2\" >-0.050576</td>\n",
       "      <td id=\"T_62bf4_row3_col3\" class=\"data row3 col3\" >1.000000</td>\n",
       "      <td id=\"T_62bf4_row3_col4\" class=\"data row3 col4\" >0.057046</td>\n",
       "      <td id=\"T_62bf4_row3_col5\" class=\"data row3 col5\" >-0.048983</td>\n",
       "      <td id=\"T_62bf4_row3_col6\" class=\"data row3 col6\" >0.446398</td>\n",
       "      <td id=\"T_62bf4_row3_col7\" class=\"data row3 col7\" >-0.000316</td>\n",
       "      <td id=\"T_62bf4_row3_col8\" class=\"data row3 col8\" >0.433430</td>\n",
       "      <td id=\"T_62bf4_row3_col9\" class=\"data row3 col9\" >-0.022088</td>\n",
       "      <td id=\"T_62bf4_row3_col10\" class=\"data row3 col10\" >-0.087393</td>\n",
       "      <td id=\"T_62bf4_row3_col11\" class=\"data row3 col11\" >-0.016024</td>\n",
       "      <td id=\"T_62bf4_row3_col12\" class=\"data row3 col12\" >0.097390</td>\n",
       "      <td id=\"T_62bf4_row3_col13\" class=\"data row3 col13\" >-0.038782</td>\n",
       "      <td id=\"T_62bf4_row3_col14\" class=\"data row3 col14\" >-0.015857</td>\n",
       "      <td id=\"T_62bf4_row3_col15\" class=\"data row3 col15\" >-0.044158</td>\n",
       "      <td id=\"T_62bf4_row3_col16\" class=\"data row3 col16\" >0.357664</td>\n",
       "      <td id=\"T_62bf4_row3_col17\" class=\"data row3 col17\" >-0.017120</td>\n",
       "      <td id=\"T_62bf4_row3_col18\" class=\"data row3 col18\" >-0.045227</td>\n",
       "      <td id=\"T_62bf4_row3_col19\" class=\"data row3 col19\" >0.405131</td>\n",
       "      <td id=\"T_62bf4_row3_col20\" class=\"data row3 col20\" >0.298467</td>\n",
       "      <td id=\"T_62bf4_row3_col21\" class=\"data row3 col21\" >0.183367</td>\n",
       "      <td id=\"T_62bf4_row3_col22\" class=\"data row3 col22\" >0.240414</td>\n",
       "    </tr>\n",
       "    <tr>\n",
       "      <th id=\"T_62bf4_level0_row4\" class=\"row_heading level0 row4\" >AudioProduction</th>\n",
       "      <td id=\"T_62bf4_row4_col0\" class=\"data row4 col0\" >0.038370</td>\n",
       "      <td id=\"T_62bf4_row4_col1\" class=\"data row4 col1\" >-0.045779</td>\n",
       "      <td id=\"T_62bf4_row4_col2\" class=\"data row4 col2\" >-0.035998</td>\n",
       "      <td id=\"T_62bf4_row4_col3\" class=\"data row4 col3\" >0.057046</td>\n",
       "      <td id=\"T_62bf4_row4_col4\" class=\"data row4 col4\" >1.000000</td>\n",
       "      <td id=\"T_62bf4_row4_col5\" class=\"data row4 col5\" >-0.033530</td>\n",
       "      <td id=\"T_62bf4_row4_col6\" class=\"data row4 col6\" >0.026886</td>\n",
       "      <td id=\"T_62bf4_row4_col7\" class=\"data row4 col7\" >-0.007467</td>\n",
       "      <td id=\"T_62bf4_row4_col8\" class=\"data row4 col8\" >0.042774</td>\n",
       "      <td id=\"T_62bf4_row4_col9\" class=\"data row4 col9\" >-0.015721</td>\n",
       "      <td id=\"T_62bf4_row4_col10\" class=\"data row4 col10\" >-0.061596</td>\n",
       "      <td id=\"T_62bf4_row4_col11\" class=\"data row4 col11\" >-0.011405</td>\n",
       "      <td id=\"T_62bf4_row4_col12\" class=\"data row4 col12\" >0.020743</td>\n",
       "      <td id=\"T_62bf4_row4_col13\" class=\"data row4 col13\" >-0.027604</td>\n",
       "      <td id=\"T_62bf4_row4_col14\" class=\"data row4 col14\" >-0.011286</td>\n",
       "      <td id=\"T_62bf4_row4_col15\" class=\"data row4 col15\" >-0.029978</td>\n",
       "      <td id=\"T_62bf4_row4_col16\" class=\"data row4 col16\" >0.159015</td>\n",
       "      <td id=\"T_62bf4_row4_col17\" class=\"data row4 col17\" >-0.012185</td>\n",
       "      <td id=\"T_62bf4_row4_col18\" class=\"data row4 col18\" >-0.032190</td>\n",
       "      <td id=\"T_62bf4_row4_col19\" class=\"data row4 col19\" >0.306335</td>\n",
       "      <td id=\"T_62bf4_row4_col20\" class=\"data row4 col20\" >0.353897</td>\n",
       "      <td id=\"T_62bf4_row4_col21\" class=\"data row4 col21\" >0.051826</td>\n",
       "      <td id=\"T_62bf4_row4_col22\" class=\"data row4 col22\" >0.109173</td>\n",
       "    </tr>\n",
       "    <tr>\n",
       "      <th id=\"T_62bf4_level0_row5\" class=\"row_heading level0 row5\" >Casual</th>\n",
       "      <td id=\"T_62bf4_row5_col0\" class=\"data row5 col0\" >-0.009928</td>\n",
       "      <td id=\"T_62bf4_row5_col1\" class=\"data row5 col1\" >-0.169671</td>\n",
       "      <td id=\"T_62bf4_row5_col2\" class=\"data row5 col2\" >0.023342</td>\n",
       "      <td id=\"T_62bf4_row5_col3\" class=\"data row5 col3\" >-0.048983</td>\n",
       "      <td id=\"T_62bf4_row5_col4\" class=\"data row5 col4\" >-0.033530</td>\n",
       "      <td id=\"T_62bf4_row5_col5\" class=\"data row5 col5\" >1.000000</td>\n",
       "      <td id=\"T_62bf4_row5_col6\" class=\"data row5 col6\" >-0.081125</td>\n",
       "      <td id=\"T_62bf4_row5_col7\" class=\"data row5 col7\" >-0.024124</td>\n",
       "      <td id=\"T_62bf4_row5_col8\" class=\"data row5 col8\" >-0.042040</td>\n",
       "      <td id=\"T_62bf4_row5_col9\" class=\"data row5 col9\" >0.023110</td>\n",
       "      <td id=\"T_62bf4_row5_col10\" class=\"data row5 col10\" >0.120287</td>\n",
       "      <td id=\"T_62bf4_row5_col11\" class=\"data row5 col11\" >-0.049538</td>\n",
       "      <td id=\"T_62bf4_row5_col12\" class=\"data row5 col12\" >-0.032968</td>\n",
       "      <td id=\"T_62bf4_row5_col13\" class=\"data row5 col13\" >-0.156226</td>\n",
       "      <td id=\"T_62bf4_row5_col14\" class=\"data row5 col14\" >-0.040573</td>\n",
       "      <td id=\"T_62bf4_row5_col15\" class=\"data row5 col15\" >0.160251</td>\n",
       "      <td id=\"T_62bf4_row5_col16\" class=\"data row5 col16\" >-0.038517</td>\n",
       "      <td id=\"T_62bf4_row5_col17\" class=\"data row5 col17\" >0.033098</td>\n",
       "      <td id=\"T_62bf4_row5_col18\" class=\"data row5 col18\" >-0.061963</td>\n",
       "      <td id=\"T_62bf4_row5_col19\" class=\"data row5 col19\" >-0.067961</td>\n",
       "      <td id=\"T_62bf4_row5_col20\" class=\"data row5 col20\" >-0.040492</td>\n",
       "      <td id=\"T_62bf4_row5_col21\" class=\"data row5 col21\" >-0.061712</td>\n",
       "      <td id=\"T_62bf4_row5_col22\" class=\"data row5 col22\" >-0.138674</td>\n",
       "    </tr>\n",
       "    <tr>\n",
       "      <th id=\"T_62bf4_level0_row6\" class=\"row_heading level0 row6\" >Design&amp;Illustration</th>\n",
       "      <td id=\"T_62bf4_row6_col0\" class=\"data row6 col0\" >0.015772</td>\n",
       "      <td id=\"T_62bf4_row6_col1\" class=\"data row6 col1\" >-0.101905</td>\n",
       "      <td id=\"T_62bf4_row6_col2\" class=\"data row6 col2\" >-0.080579</td>\n",
       "      <td id=\"T_62bf4_row6_col3\" class=\"data row6 col3\" >0.446398</td>\n",
       "      <td id=\"T_62bf4_row6_col4\" class=\"data row6 col4\" >0.026886</td>\n",
       "      <td id=\"T_62bf4_row6_col5\" class=\"data row6 col5\" >-0.081125</td>\n",
       "      <td id=\"T_62bf4_row6_col6\" class=\"data row6 col6\" >1.000000</td>\n",
       "      <td id=\"T_62bf4_row6_col7\" class=\"data row6 col7\" >-0.011484</td>\n",
       "      <td id=\"T_62bf4_row6_col8\" class=\"data row6 col8\" >0.265415</td>\n",
       "      <td id=\"T_62bf4_row6_col9\" class=\"data row6 col9\" >-0.035191</td>\n",
       "      <td id=\"T_62bf4_row6_col10\" class=\"data row6 col10\" >-0.140080</td>\n",
       "      <td id=\"T_62bf4_row6_col11\" class=\"data row6 col11\" >-0.025530</td>\n",
       "      <td id=\"T_62bf4_row6_col12\" class=\"data row6 col12\" >0.363474</td>\n",
       "      <td id=\"T_62bf4_row6_col13\" class=\"data row6 col13\" >-0.061789</td>\n",
       "      <td id=\"T_62bf4_row6_col14\" class=\"data row6 col14\" >-0.025263</td>\n",
       "      <td id=\"T_62bf4_row6_col15\" class=\"data row6 col15\" >-0.070353</td>\n",
       "      <td id=\"T_62bf4_row6_col16\" class=\"data row6 col16\" >0.245010</td>\n",
       "      <td id=\"T_62bf4_row6_col17\" class=\"data row6 col17\" >-0.027276</td>\n",
       "      <td id=\"T_62bf4_row6_col18\" class=\"data row6 col18\" >-0.072056</td>\n",
       "      <td id=\"T_62bf4_row6_col19\" class=\"data row6 col19\" >0.428412</td>\n",
       "      <td id=\"T_62bf4_row6_col20\" class=\"data row6 col20\" >0.123050</td>\n",
       "      <td id=\"T_62bf4_row6_col21\" class=\"data row6 col21\" >0.674160</td>\n",
       "      <td id=\"T_62bf4_row6_col22\" class=\"data row6 col22\" >0.164052</td>\n",
       "    </tr>\n",
       "    <tr>\n",
       "      <th id=\"T_62bf4_level0_row7\" class=\"row_heading level0 row7\" >EarlyAccess</th>\n",
       "      <td id=\"T_62bf4_row7_col0\" class=\"data row7 col0\" >-0.003587</td>\n",
       "      <td id=\"T_62bf4_row7_col1\" class=\"data row7 col1\" >0.086701</td>\n",
       "      <td id=\"T_62bf4_row7_col2\" class=\"data row7 col2\" >0.025087</td>\n",
       "      <td id=\"T_62bf4_row7_col3\" class=\"data row7 col3\" >-0.000316</td>\n",
       "      <td id=\"T_62bf4_row7_col4\" class=\"data row7 col4\" >-0.007467</td>\n",
       "      <td id=\"T_62bf4_row7_col5\" class=\"data row7 col5\" >-0.024124</td>\n",
       "      <td id=\"T_62bf4_row7_col6\" class=\"data row7 col6\" >-0.011484</td>\n",
       "      <td id=\"T_62bf4_row7_col7\" class=\"data row7 col7\" >1.000000</td>\n",
       "      <td id=\"T_62bf4_row7_col8\" class=\"data row7 col8\" >-0.003047</td>\n",
       "      <td id=\"T_62bf4_row7_col9\" class=\"data row7 col9\" >0.001764</td>\n",
       "      <td id=\"T_62bf4_row7_col10\" class=\"data row7 col10\" >0.136076</td>\n",
       "      <td id=\"T_62bf4_row7_col11\" class=\"data row7 col11\" >0.043223</td>\n",
       "      <td id=\"T_62bf4_row7_col12\" class=\"data row7 col12\" >-0.011913</td>\n",
       "      <td id=\"T_62bf4_row7_col13\" class=\"data row7 col13\" >0.044517</td>\n",
       "      <td id=\"T_62bf4_row7_col14\" class=\"data row7 col14\" >0.021868</td>\n",
       "      <td id=\"T_62bf4_row7_col15\" class=\"data row7 col15\" >0.020903</td>\n",
       "      <td id=\"T_62bf4_row7_col16\" class=\"data row7 col16\" >-0.005971</td>\n",
       "      <td id=\"T_62bf4_row7_col17\" class=\"data row7 col17\" >0.018377</td>\n",
       "      <td id=\"T_62bf4_row7_col18\" class=\"data row7 col18\" >0.024976</td>\n",
       "      <td id=\"T_62bf4_row7_col19\" class=\"data row7 col19\" >-0.001353</td>\n",
       "      <td id=\"T_62bf4_row7_col20\" class=\"data row7 col20\" >-0.009590</td>\n",
       "      <td id=\"T_62bf4_row7_col21\" class=\"data row7 col21\" >-0.020636</td>\n",
       "      <td id=\"T_62bf4_row7_col22\" class=\"data row7 col22\" >0.015178</td>\n",
       "    </tr>\n",
       "    <tr>\n",
       "      <th id=\"T_62bf4_level0_row8\" class=\"row_heading level0 row8\" >Education</th>\n",
       "      <td id=\"T_62bf4_row8_col0\" class=\"data row8 col0\" >0.032850</td>\n",
       "      <td id=\"T_62bf4_row8_col1\" class=\"data row8 col1\" >-0.053104</td>\n",
       "      <td id=\"T_62bf4_row8_col2\" class=\"data row8 col2\" >-0.041757</td>\n",
       "      <td id=\"T_62bf4_row8_col3\" class=\"data row8 col3\" >0.433430</td>\n",
       "      <td id=\"T_62bf4_row8_col4\" class=\"data row8 col4\" >0.042774</td>\n",
       "      <td id=\"T_62bf4_row8_col5\" class=\"data row8 col5\" >-0.042040</td>\n",
       "      <td id=\"T_62bf4_row8_col6\" class=\"data row8 col6\" >0.265415</td>\n",
       "      <td id=\"T_62bf4_row8_col7\" class=\"data row8 col7\" >-0.003047</td>\n",
       "      <td id=\"T_62bf4_row8_col8\" class=\"data row8 col8\" >1.000000</td>\n",
       "      <td id=\"T_62bf4_row8_col9\" class=\"data row8 col9\" >-0.018236</td>\n",
       "      <td id=\"T_62bf4_row8_col10\" class=\"data row8 col10\" >-0.072881</td>\n",
       "      <td id=\"T_62bf4_row8_col11\" class=\"data row8 col11\" >-0.013230</td>\n",
       "      <td id=\"T_62bf4_row8_col12\" class=\"data row8 col12\" >0.057939</td>\n",
       "      <td id=\"T_62bf4_row8_col13\" class=\"data row8 col13\" >-0.032020</td>\n",
       "      <td id=\"T_62bf4_row8_col14\" class=\"data row8 col14\" >-0.013092</td>\n",
       "      <td id=\"T_62bf4_row8_col15\" class=\"data row8 col15\" >-0.036458</td>\n",
       "      <td id=\"T_62bf4_row8_col16\" class=\"data row8 col16\" >0.574403</td>\n",
       "      <td id=\"T_62bf4_row8_col17\" class=\"data row8 col17\" >-0.014135</td>\n",
       "      <td id=\"T_62bf4_row8_col18\" class=\"data row8 col18\" >-0.037341</td>\n",
       "      <td id=\"T_62bf4_row8_col19\" class=\"data row8 col19\" >0.380240</td>\n",
       "      <td id=\"T_62bf4_row8_col20\" class=\"data row8 col20\" >0.120875</td>\n",
       "      <td id=\"T_62bf4_row8_col21\" class=\"data row8 col21\" >0.169611</td>\n",
       "      <td id=\"T_62bf4_row8_col22\" class=\"data row8 col22\" >0.157044</td>\n",
       "    </tr>\n",
       "    <tr>\n",
       "      <th id=\"T_62bf4_level0_row9\" class=\"row_heading level0 row9\" >FreetoPlay</th>\n",
       "      <td id=\"T_62bf4_row9_col0\" class=\"data row9 col0\" >-0.004307</td>\n",
       "      <td id=\"T_62bf4_row9_col1\" class=\"data row9 col1\" >0.032145</td>\n",
       "      <td id=\"T_62bf4_row9_col2\" class=\"data row9 col2\" >-0.029793</td>\n",
       "      <td id=\"T_62bf4_row9_col3\" class=\"data row9 col3\" >-0.022088</td>\n",
       "      <td id=\"T_62bf4_row9_col4\" class=\"data row9 col4\" >-0.015721</td>\n",
       "      <td id=\"T_62bf4_row9_col5\" class=\"data row9 col5\" >0.023110</td>\n",
       "      <td id=\"T_62bf4_row9_col6\" class=\"data row9 col6\" >-0.035191</td>\n",
       "      <td id=\"T_62bf4_row9_col7\" class=\"data row9 col7\" >0.001764</td>\n",
       "      <td id=\"T_62bf4_row9_col8\" class=\"data row9 col8\" >-0.018236</td>\n",
       "      <td id=\"T_62bf4_row9_col9\" class=\"data row9 col9\" >1.000000</td>\n",
       "      <td id=\"T_62bf4_row9_col10\" class=\"data row9 col10\" >-0.033426</td>\n",
       "      <td id=\"T_62bf4_row9_col11\" class=\"data row9 col11\" >0.451113</td>\n",
       "      <td id=\"T_62bf4_row9_col12\" class=\"data row9 col12\" >-0.014301</td>\n",
       "      <td id=\"T_62bf4_row9_col13\" class=\"data row9 col13\" >0.076652</td>\n",
       "      <td id=\"T_62bf4_row9_col14\" class=\"data row9 col14\" >-0.020137</td>\n",
       "      <td id=\"T_62bf4_row9_col15\" class=\"data row9 col15\" >-0.006346</td>\n",
       "      <td id=\"T_62bf4_row9_col16\" class=\"data row9 col16\" >-0.016708</td>\n",
       "      <td id=\"T_62bf4_row9_col17\" class=\"data row9 col17\" >0.110618</td>\n",
       "      <td id=\"T_62bf4_row9_col18\" class=\"data row9 col18\" >0.054072</td>\n",
       "      <td id=\"T_62bf4_row9_col19\" class=\"data row9 col19\" >-0.030100</td>\n",
       "      <td id=\"T_62bf4_row9_col20\" class=\"data row9 col20\" >-0.017565</td>\n",
       "      <td id=\"T_62bf4_row9_col21\" class=\"data row9 col21\" >-0.026770</td>\n",
       "      <td id=\"T_62bf4_row9_col22\" class=\"data row9 col22\" >0.037354</td>\n",
       "    </tr>\n",
       "    <tr>\n",
       "      <th id=\"T_62bf4_level0_row10\" class=\"row_heading level0 row10\" >Indie</th>\n",
       "      <td id=\"T_62bf4_row10_col0\" class=\"data row10 col0\" >-0.017211</td>\n",
       "      <td id=\"T_62bf4_row10_col1\" class=\"data row10 col1\" >0.119743</td>\n",
       "      <td id=\"T_62bf4_row10_col2\" class=\"data row10 col2\" >0.190596</td>\n",
       "      <td id=\"T_62bf4_row10_col3\" class=\"data row10 col3\" >-0.087393</td>\n",
       "      <td id=\"T_62bf4_row10_col4\" class=\"data row10 col4\" >-0.061596</td>\n",
       "      <td id=\"T_62bf4_row10_col5\" class=\"data row10 col5\" >0.120287</td>\n",
       "      <td id=\"T_62bf4_row10_col6\" class=\"data row10 col6\" >-0.140080</td>\n",
       "      <td id=\"T_62bf4_row10_col7\" class=\"data row10 col7\" >0.136076</td>\n",
       "      <td id=\"T_62bf4_row10_col8\" class=\"data row10 col8\" >-0.072881</td>\n",
       "      <td id=\"T_62bf4_row10_col9\" class=\"data row10 col9\" >-0.033426</td>\n",
       "      <td id=\"T_62bf4_row10_col10\" class=\"data row10 col10\" >1.000000</td>\n",
       "      <td id=\"T_62bf4_row10_col11\" class=\"data row10 col11\" >-0.073454</td>\n",
       "      <td id=\"T_62bf4_row10_col12\" class=\"data row10 col12\" >-0.057153</td>\n",
       "      <td id=\"T_62bf4_row10_col13\" class=\"data row10 col13\" >0.115096</td>\n",
       "      <td id=\"T_62bf4_row10_col14\" class=\"data row10 col14\" >-0.042472</td>\n",
       "      <td id=\"T_62bf4_row10_col15\" class=\"data row10 col15\" >-0.192917</td>\n",
       "      <td id=\"T_62bf4_row10_col16\" class=\"data row10 col16\" >-0.066773</td>\n",
       "      <td id=\"T_62bf4_row10_col17\" class=\"data row10 col17\" >-0.027469</td>\n",
       "      <td id=\"T_62bf4_row10_col18\" class=\"data row10 col18\" >0.084421</td>\n",
       "      <td id=\"T_62bf4_row10_col19\" class=\"data row10 col19\" >-0.120294</td>\n",
       "      <td id=\"T_62bf4_row10_col20\" class=\"data row10 col20\" >-0.070197</td>\n",
       "      <td id=\"T_62bf4_row10_col21\" class=\"data row10 col21\" >-0.106984</td>\n",
       "      <td id=\"T_62bf4_row10_col22\" class=\"data row10 col22\" >-0.159508</td>\n",
       "    </tr>\n",
       "    <tr>\n",
       "      <th id=\"T_62bf4_level0_row11\" class=\"row_heading level0 row11\" >MassivelyMultiplayer</th>\n",
       "      <td id=\"T_62bf4_row11_col0\" class=\"data row11 col0\" >-0.003124</td>\n",
       "      <td id=\"T_62bf4_row11_col1\" class=\"data row11 col1\" >0.062422</td>\n",
       "      <td id=\"T_62bf4_row11_col2\" class=\"data row11 col2\" >-0.012655</td>\n",
       "      <td id=\"T_62bf4_row11_col3\" class=\"data row11 col3\" >-0.016024</td>\n",
       "      <td id=\"T_62bf4_row11_col4\" class=\"data row11 col4\" >-0.011405</td>\n",
       "      <td id=\"T_62bf4_row11_col5\" class=\"data row11 col5\" >-0.049538</td>\n",
       "      <td id=\"T_62bf4_row11_col6\" class=\"data row11 col6\" >-0.025530</td>\n",
       "      <td id=\"T_62bf4_row11_col7\" class=\"data row11 col7\" >0.043223</td>\n",
       "      <td id=\"T_62bf4_row11_col8\" class=\"data row11 col8\" >-0.013230</td>\n",
       "      <td id=\"T_62bf4_row11_col9\" class=\"data row11 col9\" >0.451113</td>\n",
       "      <td id=\"T_62bf4_row11_col10\" class=\"data row11 col10\" >-0.073454</td>\n",
       "      <td id=\"T_62bf4_row11_col11\" class=\"data row11 col11\" >1.000000</td>\n",
       "      <td id=\"T_62bf4_row11_col12\" class=\"data row11 col12\" >-0.010375</td>\n",
       "      <td id=\"T_62bf4_row11_col13\" class=\"data row11 col13\" >0.177459</td>\n",
       "      <td id=\"T_62bf4_row11_col14\" class=\"data row11 col14\" >0.006244</td>\n",
       "      <td id=\"T_62bf4_row11_col15\" class=\"data row11 col15\" >-0.011724</td>\n",
       "      <td id=\"T_62bf4_row11_col16\" class=\"data row11 col16\" >-0.012121</td>\n",
       "      <td id=\"T_62bf4_row11_col17\" class=\"data row11 col17\" >0.025757</td>\n",
       "      <td id=\"T_62bf4_row11_col18\" class=\"data row11 col18\" >0.013652</td>\n",
       "      <td id=\"T_62bf4_row11_col19\" class=\"data row11 col19\" >-0.021837</td>\n",
       "      <td id=\"T_62bf4_row11_col20\" class=\"data row11 col20\" >-0.012743</td>\n",
       "      <td id=\"T_62bf4_row11_col21\" class=\"data row11 col21\" >-0.019421</td>\n",
       "      <td id=\"T_62bf4_row11_col22\" class=\"data row11 col22\" >0.107316</td>\n",
       "    </tr>\n",
       "    <tr>\n",
       "      <th id=\"T_62bf4_level0_row12\" class=\"row_heading level0 row12\" >PhotoEditing</th>\n",
       "      <td id=\"T_62bf4_row12_col0\" class=\"data row12 col0\" >0.042325</td>\n",
       "      <td id=\"T_62bf4_row12_col1\" class=\"data row12 col1\" >-0.041644</td>\n",
       "      <td id=\"T_62bf4_row12_col2\" class=\"data row12 col2\" >-0.032746</td>\n",
       "      <td id=\"T_62bf4_row12_col3\" class=\"data row12 col3\" >0.097390</td>\n",
       "      <td id=\"T_62bf4_row12_col4\" class=\"data row12 col4\" >0.020743</td>\n",
       "      <td id=\"T_62bf4_row12_col5\" class=\"data row12 col5\" >-0.032968</td>\n",
       "      <td id=\"T_62bf4_row12_col6\" class=\"data row12 col6\" >0.363474</td>\n",
       "      <td id=\"T_62bf4_row12_col7\" class=\"data row12 col7\" >-0.011913</td>\n",
       "      <td id=\"T_62bf4_row12_col8\" class=\"data row12 col8\" >0.057939</td>\n",
       "      <td id=\"T_62bf4_row12_col9\" class=\"data row12 col9\" >-0.014301</td>\n",
       "      <td id=\"T_62bf4_row12_col10\" class=\"data row12 col10\" >-0.057153</td>\n",
       "      <td id=\"T_62bf4_row12_col11\" class=\"data row12 col11\" >-0.010375</td>\n",
       "      <td id=\"T_62bf4_row12_col12\" class=\"data row12 col12\" >1.000000</td>\n",
       "      <td id=\"T_62bf4_row12_col13\" class=\"data row12 col13\" >-0.025110</td>\n",
       "      <td id=\"T_62bf4_row12_col14\" class=\"data row12 col14\" >-0.010267</td>\n",
       "      <td id=\"T_62bf4_row12_col15\" class=\"data row12 col15\" >-0.028590</td>\n",
       "      <td id=\"T_62bf4_row12_col16\" class=\"data row12 col16\" >0.108421</td>\n",
       "      <td id=\"T_62bf4_row12_col17\" class=\"data row12 col17\" >-0.011085</td>\n",
       "      <td id=\"T_62bf4_row12_col18\" class=\"data row12 col18\" >-0.029283</td>\n",
       "      <td id=\"T_62bf4_row12_col19\" class=\"data row12 col19\" >0.337745</td>\n",
       "      <td id=\"T_62bf4_row12_col20\" class=\"data row12 col20\" >0.134708</td>\n",
       "      <td id=\"T_62bf4_row12_col21\" class=\"data row12 col21\" >0.015967</td>\n",
       "      <td id=\"T_62bf4_row12_col22\" class=\"data row12 col22\" >0.055144</td>\n",
       "    </tr>\n",
       "    <tr>\n",
       "      <th id=\"T_62bf4_level0_row13\" class=\"row_heading level0 row13\" >RPG</th>\n",
       "      <td id=\"T_62bf4_row13_col0\" class=\"data row13 col0\" >-0.007562</td>\n",
       "      <td id=\"T_62bf4_row13_col1\" class=\"data row13 col1\" >-0.048953</td>\n",
       "      <td id=\"T_62bf4_row13_col2\" class=\"data row13 col2\" >0.104666</td>\n",
       "      <td id=\"T_62bf4_row13_col3\" class=\"data row13 col3\" >-0.038782</td>\n",
       "      <td id=\"T_62bf4_row13_col4\" class=\"data row13 col4\" >-0.027604</td>\n",
       "      <td id=\"T_62bf4_row13_col5\" class=\"data row13 col5\" >-0.156226</td>\n",
       "      <td id=\"T_62bf4_row13_col6\" class=\"data row13 col6\" >-0.061789</td>\n",
       "      <td id=\"T_62bf4_row13_col7\" class=\"data row13 col7\" >0.044517</td>\n",
       "      <td id=\"T_62bf4_row13_col8\" class=\"data row13 col8\" >-0.032020</td>\n",
       "      <td id=\"T_62bf4_row13_col9\" class=\"data row13 col9\" >0.076652</td>\n",
       "      <td id=\"T_62bf4_row13_col10\" class=\"data row13 col10\" >0.115096</td>\n",
       "      <td id=\"T_62bf4_row13_col11\" class=\"data row13 col11\" >0.177459</td>\n",
       "      <td id=\"T_62bf4_row13_col12\" class=\"data row13 col12\" >-0.025110</td>\n",
       "      <td id=\"T_62bf4_row13_col13\" class=\"data row13 col13\" >1.000000</td>\n",
       "      <td id=\"T_62bf4_row13_col14\" class=\"data row13 col14\" >-0.083063</td>\n",
       "      <td id=\"T_62bf4_row13_col15\" class=\"data row13 col15\" >-0.140520</td>\n",
       "      <td id=\"T_62bf4_row13_col16\" class=\"data row13 col16\" >-0.029337</td>\n",
       "      <td id=\"T_62bf4_row13_col17\" class=\"data row13 col17\" >-0.091547</td>\n",
       "      <td id=\"T_62bf4_row13_col18\" class=\"data row13 col18\" >0.176961</td>\n",
       "      <td id=\"T_62bf4_row13_col19\" class=\"data row13 col19\" >-0.052851</td>\n",
       "      <td id=\"T_62bf4_row13_col20\" class=\"data row13 col20\" >-0.030841</td>\n",
       "      <td id=\"T_62bf4_row13_col21\" class=\"data row13 col21\" >-0.046078</td>\n",
       "      <td id=\"T_62bf4_row13_col22\" class=\"data row13 col22\" >0.026024</td>\n",
       "    </tr>\n",
       "    <tr>\n",
       "      <th id=\"T_62bf4_level0_row14\" class=\"row_heading level0 row14\" >Racing</th>\n",
       "      <td id=\"T_62bf4_row14_col0\" class=\"data row14 col0\" >-0.003092</td>\n",
       "      <td id=\"T_62bf4_row14_col1\" class=\"data row14 col1\" >0.000167</td>\n",
       "      <td id=\"T_62bf4_row14_col2\" class=\"data row14 col2\" >-0.076042</td>\n",
       "      <td id=\"T_62bf4_row14_col3\" class=\"data row14 col3\" >-0.015857</td>\n",
       "      <td id=\"T_62bf4_row14_col4\" class=\"data row14 col4\" >-0.011286</td>\n",
       "      <td id=\"T_62bf4_row14_col5\" class=\"data row14 col5\" >-0.040573</td>\n",
       "      <td id=\"T_62bf4_row14_col6\" class=\"data row14 col6\" >-0.025263</td>\n",
       "      <td id=\"T_62bf4_row14_col7\" class=\"data row14 col7\" >0.021868</td>\n",
       "      <td id=\"T_62bf4_row14_col8\" class=\"data row14 col8\" >-0.013092</td>\n",
       "      <td id=\"T_62bf4_row14_col9\" class=\"data row14 col9\" >-0.020137</td>\n",
       "      <td id=\"T_62bf4_row14_col10\" class=\"data row14 col10\" >-0.042472</td>\n",
       "      <td id=\"T_62bf4_row14_col11\" class=\"data row14 col11\" >0.006244</td>\n",
       "      <td id=\"T_62bf4_row14_col12\" class=\"data row14 col12\" >-0.010267</td>\n",
       "      <td id=\"T_62bf4_row14_col13\" class=\"data row14 col13\" >-0.083063</td>\n",
       "      <td id=\"T_62bf4_row14_col14\" class=\"data row14 col14\" >1.000000</td>\n",
       "      <td id=\"T_62bf4_row14_col15\" class=\"data row14 col15\" >0.075838</td>\n",
       "      <td id=\"T_62bf4_row14_col16\" class=\"data row14 col16\" >-0.011995</td>\n",
       "      <td id=\"T_62bf4_row14_col17\" class=\"data row14 col17\" >0.365240</td>\n",
       "      <td id=\"T_62bf4_row14_col18\" class=\"data row14 col18\" >-0.086317</td>\n",
       "      <td id=\"T_62bf4_row14_col19\" class=\"data row14 col19\" >-0.021609</td>\n",
       "      <td id=\"T_62bf4_row14_col20\" class=\"data row14 col20\" >-0.012610</td>\n",
       "      <td id=\"T_62bf4_row14_col21\" class=\"data row14 col21\" >-0.019218</td>\n",
       "      <td id=\"T_62bf4_row14_col22\" class=\"data row14 col22\" >-0.008080</td>\n",
       "    </tr>\n",
       "    <tr>\n",
       "      <th id=\"T_62bf4_level0_row15\" class=\"row_heading level0 row15\" >Simulation</th>\n",
       "      <td id=\"T_62bf4_row15_col0\" class=\"data row15 col0\" >-0.008610</td>\n",
       "      <td id=\"T_62bf4_row15_col1\" class=\"data row15 col1\" >-0.268034</td>\n",
       "      <td id=\"T_62bf4_row15_col2\" class=\"data row15 col2\" >-0.194361</td>\n",
       "      <td id=\"T_62bf4_row15_col3\" class=\"data row15 col3\" >-0.044158</td>\n",
       "      <td id=\"T_62bf4_row15_col4\" class=\"data row15 col4\" >-0.029978</td>\n",
       "      <td id=\"T_62bf4_row15_col5\" class=\"data row15 col5\" >0.160251</td>\n",
       "      <td id=\"T_62bf4_row15_col6\" class=\"data row15 col6\" >-0.070353</td>\n",
       "      <td id=\"T_62bf4_row15_col7\" class=\"data row15 col7\" >0.020903</td>\n",
       "      <td id=\"T_62bf4_row15_col8\" class=\"data row15 col8\" >-0.036458</td>\n",
       "      <td id=\"T_62bf4_row15_col9\" class=\"data row15 col9\" >-0.006346</td>\n",
       "      <td id=\"T_62bf4_row15_col10\" class=\"data row15 col10\" >-0.192917</td>\n",
       "      <td id=\"T_62bf4_row15_col11\" class=\"data row15 col11\" >-0.011724</td>\n",
       "      <td id=\"T_62bf4_row15_col12\" class=\"data row15 col12\" >-0.028590</td>\n",
       "      <td id=\"T_62bf4_row15_col13\" class=\"data row15 col13\" >-0.140520</td>\n",
       "      <td id=\"T_62bf4_row15_col14\" class=\"data row15 col14\" >0.075838</td>\n",
       "      <td id=\"T_62bf4_row15_col15\" class=\"data row15 col15\" >1.000000</td>\n",
       "      <td id=\"T_62bf4_row15_col16\" class=\"data row15 col16\" >-0.033403</td>\n",
       "      <td id=\"T_62bf4_row15_col17\" class=\"data row15 col17\" >0.199721</td>\n",
       "      <td id=\"T_62bf4_row15_col18\" class=\"data row15 col18\" >0.020528</td>\n",
       "      <td id=\"T_62bf4_row15_col19\" class=\"data row15 col19\" >-0.060176</td>\n",
       "      <td id=\"T_62bf4_row15_col20\" class=\"data row15 col20\" >-0.035116</td>\n",
       "      <td id=\"T_62bf4_row15_col21\" class=\"data row15 col21\" >-0.053518</td>\n",
       "      <td id=\"T_62bf4_row15_col22\" class=\"data row15 col22\" >0.029858</td>\n",
       "    </tr>\n",
       "    <tr>\n",
       "      <th id=\"T_62bf4_level0_row16\" class=\"row_heading level0 row16\" >SoftwareTraining</th>\n",
       "      <td id=\"T_62bf4_row16_col0\" class=\"data row16 col0\" >0.036010</td>\n",
       "      <td id=\"T_62bf4_row16_col1\" class=\"data row16 col1\" >-0.048653</td>\n",
       "      <td id=\"T_62bf4_row16_col2\" class=\"data row16 col2\" >-0.038258</td>\n",
       "      <td id=\"T_62bf4_row16_col3\" class=\"data row16 col3\" >0.357664</td>\n",
       "      <td id=\"T_62bf4_row16_col4\" class=\"data row16 col4\" >0.159015</td>\n",
       "      <td id=\"T_62bf4_row16_col5\" class=\"data row16 col5\" >-0.038517</td>\n",
       "      <td id=\"T_62bf4_row16_col6\" class=\"data row16 col6\" >0.245010</td>\n",
       "      <td id=\"T_62bf4_row16_col7\" class=\"data row16 col7\" >-0.005971</td>\n",
       "      <td id=\"T_62bf4_row16_col8\" class=\"data row16 col8\" >0.574403</td>\n",
       "      <td id=\"T_62bf4_row16_col9\" class=\"data row16 col9\" >-0.016708</td>\n",
       "      <td id=\"T_62bf4_row16_col10\" class=\"data row16 col10\" >-0.066773</td>\n",
       "      <td id=\"T_62bf4_row16_col11\" class=\"data row16 col11\" >-0.012121</td>\n",
       "      <td id=\"T_62bf4_row16_col12\" class=\"data row16 col12\" >0.108421</td>\n",
       "      <td id=\"T_62bf4_row16_col13\" class=\"data row16 col13\" >-0.029337</td>\n",
       "      <td id=\"T_62bf4_row16_col14\" class=\"data row16 col14\" >-0.011995</td>\n",
       "      <td id=\"T_62bf4_row16_col15\" class=\"data row16 col15\" >-0.033403</td>\n",
       "      <td id=\"T_62bf4_row16_col16\" class=\"data row16 col16\" >1.000000</td>\n",
       "      <td id=\"T_62bf4_row16_col17\" class=\"data row16 col17\" >-0.012950</td>\n",
       "      <td id=\"T_62bf4_row16_col18\" class=\"data row16 col18\" >-0.034211</td>\n",
       "      <td id=\"T_62bf4_row16_col19\" class=\"data row16 col19\" >0.351798</td>\n",
       "      <td id=\"T_62bf4_row16_col20\" class=\"data row16 col20\" >0.250824</td>\n",
       "      <td id=\"T_62bf4_row16_col21\" class=\"data row16 col21\" >0.120115</td>\n",
       "      <td id=\"T_62bf4_row16_col22\" class=\"data row16 col22\" >0.084667</td>\n",
       "    </tr>\n",
       "    <tr>\n",
       "      <th id=\"T_62bf4_level0_row17\" class=\"row_heading level0 row17\" >Sports</th>\n",
       "      <td id=\"T_62bf4_row17_col0\" class=\"data row17 col0\" >-0.003338</td>\n",
       "      <td id=\"T_62bf4_row17_col1\" class=\"data row17 col1\" >-0.036585</td>\n",
       "      <td id=\"T_62bf4_row17_col2\" class=\"data row17 col2\" >-0.086272</td>\n",
       "      <td id=\"T_62bf4_row17_col3\" class=\"data row17 col3\" >-0.017120</td>\n",
       "      <td id=\"T_62bf4_row17_col4\" class=\"data row17 col4\" >-0.012185</td>\n",
       "      <td id=\"T_62bf4_row17_col5\" class=\"data row17 col5\" >0.033098</td>\n",
       "      <td id=\"T_62bf4_row17_col6\" class=\"data row17 col6\" >-0.027276</td>\n",
       "      <td id=\"T_62bf4_row17_col7\" class=\"data row17 col7\" >0.018377</td>\n",
       "      <td id=\"T_62bf4_row17_col8\" class=\"data row17 col8\" >-0.014135</td>\n",
       "      <td id=\"T_62bf4_row17_col9\" class=\"data row17 col9\" >0.110618</td>\n",
       "      <td id=\"T_62bf4_row17_col10\" class=\"data row17 col10\" >-0.027469</td>\n",
       "      <td id=\"T_62bf4_row17_col11\" class=\"data row17 col11\" >0.025757</td>\n",
       "      <td id=\"T_62bf4_row17_col12\" class=\"data row17 col12\" >-0.011085</td>\n",
       "      <td id=\"T_62bf4_row17_col13\" class=\"data row17 col13\" >-0.091547</td>\n",
       "      <td id=\"T_62bf4_row17_col14\" class=\"data row17 col14\" >0.365240</td>\n",
       "      <td id=\"T_62bf4_row17_col15\" class=\"data row17 col15\" >0.199721</td>\n",
       "      <td id=\"T_62bf4_row17_col16\" class=\"data row17 col16\" >-0.012950</td>\n",
       "      <td id=\"T_62bf4_row17_col17\" class=\"data row17 col17\" >1.000000</td>\n",
       "      <td id=\"T_62bf4_row17_col18\" class=\"data row17 col18\" >-0.009897</td>\n",
       "      <td id=\"T_62bf4_row17_col19\" class=\"data row17 col19\" >-0.023331</td>\n",
       "      <td id=\"T_62bf4_row17_col20\" class=\"data row17 col20\" >-0.013615</td>\n",
       "      <td id=\"T_62bf4_row17_col21\" class=\"data row17 col21\" >-0.020749</td>\n",
       "      <td id=\"T_62bf4_row17_col22\" class=\"data row17 col22\" >0.016789</td>\n",
       "    </tr>\n",
       "    <tr>\n",
       "      <th id=\"T_62bf4_level0_row18\" class=\"row_heading level0 row18\" >Strategy</th>\n",
       "      <td id=\"T_62bf4_row18_col0\" class=\"data row18 col0\" >-0.008818</td>\n",
       "      <td id=\"T_62bf4_row18_col1\" class=\"data row18 col1\" >-0.195045</td>\n",
       "      <td id=\"T_62bf4_row18_col2\" class=\"data row18 col2\" >-0.150484</td>\n",
       "      <td id=\"T_62bf4_row18_col3\" class=\"data row18 col3\" >-0.045227</td>\n",
       "      <td id=\"T_62bf4_row18_col4\" class=\"data row18 col4\" >-0.032190</td>\n",
       "      <td id=\"T_62bf4_row18_col5\" class=\"data row18 col5\" >-0.061963</td>\n",
       "      <td id=\"T_62bf4_row18_col6\" class=\"data row18 col6\" >-0.072056</td>\n",
       "      <td id=\"T_62bf4_row18_col7\" class=\"data row18 col7\" >0.024976</td>\n",
       "      <td id=\"T_62bf4_row18_col8\" class=\"data row18 col8\" >-0.037341</td>\n",
       "      <td id=\"T_62bf4_row18_col9\" class=\"data row18 col9\" >0.054072</td>\n",
       "      <td id=\"T_62bf4_row18_col10\" class=\"data row18 col10\" >0.084421</td>\n",
       "      <td id=\"T_62bf4_row18_col11\" class=\"data row18 col11\" >0.013652</td>\n",
       "      <td id=\"T_62bf4_row18_col12\" class=\"data row18 col12\" >-0.029283</td>\n",
       "      <td id=\"T_62bf4_row18_col13\" class=\"data row18 col13\" >0.176961</td>\n",
       "      <td id=\"T_62bf4_row18_col14\" class=\"data row18 col14\" >-0.086317</td>\n",
       "      <td id=\"T_62bf4_row18_col15\" class=\"data row18 col15\" >0.020528</td>\n",
       "      <td id=\"T_62bf4_row18_col16\" class=\"data row18 col16\" >-0.034211</td>\n",
       "      <td id=\"T_62bf4_row18_col17\" class=\"data row18 col17\" >-0.009897</td>\n",
       "      <td id=\"T_62bf4_row18_col18\" class=\"data row18 col18\" >1.000000</td>\n",
       "      <td id=\"T_62bf4_row18_col19\" class=\"data row18 col19\" >-0.061633</td>\n",
       "      <td id=\"T_62bf4_row18_col20\" class=\"data row18 col20\" >-0.035966</td>\n",
       "      <td id=\"T_62bf4_row18_col21\" class=\"data row18 col21\" >-0.054813</td>\n",
       "      <td id=\"T_62bf4_row18_col22\" class=\"data row18 col22\" >0.000649</td>\n",
       "    </tr>\n",
       "    <tr>\n",
       "      <th id=\"T_62bf4_level0_row19\" class=\"row_heading level0 row19\" >Utilities</th>\n",
       "      <td id=\"T_62bf4_row19_col0\" class=\"data row19 col0\" >0.039659</td>\n",
       "      <td id=\"T_62bf4_row19_col1\" class=\"data row19 col1\" >-0.087651</td>\n",
       "      <td id=\"T_62bf4_row19_col2\" class=\"data row19 col2\" >-0.068923</td>\n",
       "      <td id=\"T_62bf4_row19_col3\" class=\"data row19 col3\" >0.405131</td>\n",
       "      <td id=\"T_62bf4_row19_col4\" class=\"data row19 col4\" >0.306335</td>\n",
       "      <td id=\"T_62bf4_row19_col5\" class=\"data row19 col5\" >-0.067961</td>\n",
       "      <td id=\"T_62bf4_row19_col6\" class=\"data row19 col6\" >0.428412</td>\n",
       "      <td id=\"T_62bf4_row19_col7\" class=\"data row19 col7\" >-0.001353</td>\n",
       "      <td id=\"T_62bf4_row19_col8\" class=\"data row19 col8\" >0.380240</td>\n",
       "      <td id=\"T_62bf4_row19_col9\" class=\"data row19 col9\" >-0.030100</td>\n",
       "      <td id=\"T_62bf4_row19_col10\" class=\"data row19 col10\" >-0.120294</td>\n",
       "      <td id=\"T_62bf4_row19_col11\" class=\"data row19 col11\" >-0.021837</td>\n",
       "      <td id=\"T_62bf4_row19_col12\" class=\"data row19 col12\" >0.337745</td>\n",
       "      <td id=\"T_62bf4_row19_col13\" class=\"data row19 col13\" >-0.052851</td>\n",
       "      <td id=\"T_62bf4_row19_col14\" class=\"data row19 col14\" >-0.021609</td>\n",
       "      <td id=\"T_62bf4_row19_col15\" class=\"data row19 col15\" >-0.060176</td>\n",
       "      <td id=\"T_62bf4_row19_col16\" class=\"data row19 col16\" >0.351798</td>\n",
       "      <td id=\"T_62bf4_row19_col17\" class=\"data row19 col17\" >-0.023331</td>\n",
       "      <td id=\"T_62bf4_row19_col18\" class=\"data row19 col18\" >-0.061633</td>\n",
       "      <td id=\"T_62bf4_row19_col19\" class=\"data row19 col19\" >1.000000</td>\n",
       "      <td id=\"T_62bf4_row19_col20\" class=\"data row19 col20\" >0.318834</td>\n",
       "      <td id=\"T_62bf4_row19_col21\" class=\"data row19 col21\" >0.143857</td>\n",
       "      <td id=\"T_62bf4_row19_col22\" class=\"data row19 col22\" >0.154673</td>\n",
       "    </tr>\n",
       "    <tr>\n",
       "      <th id=\"T_62bf4_level0_row20\" class=\"row_heading level0 row20\" >VideoProduction</th>\n",
       "      <td id=\"T_62bf4_row20_col0\" class=\"data row20 col0\" >0.034172</td>\n",
       "      <td id=\"T_62bf4_row20_col1\" class=\"data row20 col1\" >-0.051148</td>\n",
       "      <td id=\"T_62bf4_row20_col2\" class=\"data row20 col2\" >-0.040220</td>\n",
       "      <td id=\"T_62bf4_row20_col3\" class=\"data row20 col3\" >0.298467</td>\n",
       "      <td id=\"T_62bf4_row20_col4\" class=\"data row20 col4\" >0.353897</td>\n",
       "      <td id=\"T_62bf4_row20_col5\" class=\"data row20 col5\" >-0.040492</td>\n",
       "      <td id=\"T_62bf4_row20_col6\" class=\"data row20 col6\" >0.123050</td>\n",
       "      <td id=\"T_62bf4_row20_col7\" class=\"data row20 col7\" >-0.009590</td>\n",
       "      <td id=\"T_62bf4_row20_col8\" class=\"data row20 col8\" >0.120875</td>\n",
       "      <td id=\"T_62bf4_row20_col9\" class=\"data row20 col9\" >-0.017565</td>\n",
       "      <td id=\"T_62bf4_row20_col10\" class=\"data row20 col10\" >-0.070197</td>\n",
       "      <td id=\"T_62bf4_row20_col11\" class=\"data row20 col11\" >-0.012743</td>\n",
       "      <td id=\"T_62bf4_row20_col12\" class=\"data row20 col12\" >0.134708</td>\n",
       "      <td id=\"T_62bf4_row20_col13\" class=\"data row20 col13\" >-0.030841</td>\n",
       "      <td id=\"T_62bf4_row20_col14\" class=\"data row20 col14\" >-0.012610</td>\n",
       "      <td id=\"T_62bf4_row20_col15\" class=\"data row20 col15\" >-0.035116</td>\n",
       "      <td id=\"T_62bf4_row20_col16\" class=\"data row20 col16\" >0.250824</td>\n",
       "      <td id=\"T_62bf4_row20_col17\" class=\"data row20 col17\" >-0.013615</td>\n",
       "      <td id=\"T_62bf4_row20_col18\" class=\"data row20 col18\" >-0.035966</td>\n",
       "      <td id=\"T_62bf4_row20_col19\" class=\"data row20 col19\" >0.318834</td>\n",
       "      <td id=\"T_62bf4_row20_col20\" class=\"data row20 col20\" >1.000000</td>\n",
       "      <td id=\"T_62bf4_row20_col21\" class=\"data row20 col21\" >0.085164</td>\n",
       "      <td id=\"T_62bf4_row20_col22\" class=\"data row20 col22\" >0.166824</td>\n",
       "    </tr>\n",
       "    <tr>\n",
       "      <th id=\"T_62bf4_level0_row21\" class=\"row_heading level0 row21\" >WebPublishing</th>\n",
       "      <td id=\"T_62bf4_row21_col0\" class=\"data row21 col0\" >0.021681</td>\n",
       "      <td id=\"T_62bf4_row21_col1\" class=\"data row21 col1\" >-0.077952</td>\n",
       "      <td id=\"T_62bf4_row21_col2\" class=\"data row21 col2\" >-0.061297</td>\n",
       "      <td id=\"T_62bf4_row21_col3\" class=\"data row21 col3\" >0.183367</td>\n",
       "      <td id=\"T_62bf4_row21_col4\" class=\"data row21 col4\" >0.051826</td>\n",
       "      <td id=\"T_62bf4_row21_col5\" class=\"data row21 col5\" >-0.061712</td>\n",
       "      <td id=\"T_62bf4_row21_col6\" class=\"data row21 col6\" >0.674160</td>\n",
       "      <td id=\"T_62bf4_row21_col7\" class=\"data row21 col7\" >-0.020636</td>\n",
       "      <td id=\"T_62bf4_row21_col8\" class=\"data row21 col8\" >0.169611</td>\n",
       "      <td id=\"T_62bf4_row21_col9\" class=\"data row21 col9\" >-0.026770</td>\n",
       "      <td id=\"T_62bf4_row21_col10\" class=\"data row21 col10\" >-0.106984</td>\n",
       "      <td id=\"T_62bf4_row21_col11\" class=\"data row21 col11\" >-0.019421</td>\n",
       "      <td id=\"T_62bf4_row21_col12\" class=\"data row21 col12\" >0.015967</td>\n",
       "      <td id=\"T_62bf4_row21_col13\" class=\"data row21 col13\" >-0.046078</td>\n",
       "      <td id=\"T_62bf4_row21_col14\" class=\"data row21 col14\" >-0.019218</td>\n",
       "      <td id=\"T_62bf4_row21_col15\" class=\"data row21 col15\" >-0.053518</td>\n",
       "      <td id=\"T_62bf4_row21_col16\" class=\"data row21 col16\" >0.120115</td>\n",
       "      <td id=\"T_62bf4_row21_col17\" class=\"data row21 col17\" >-0.020749</td>\n",
       "      <td id=\"T_62bf4_row21_col18\" class=\"data row21 col18\" >-0.054813</td>\n",
       "      <td id=\"T_62bf4_row21_col19\" class=\"data row21 col19\" >0.143857</td>\n",
       "      <td id=\"T_62bf4_row21_col20\" class=\"data row21 col20\" >0.085164</td>\n",
       "      <td id=\"T_62bf4_row21_col21\" class=\"data row21 col21\" >1.000000</td>\n",
       "      <td id=\"T_62bf4_row21_col22\" class=\"data row21 col22\" >0.103591</td>\n",
       "    </tr>\n",
       "    <tr>\n",
       "      <th id=\"T_62bf4_level0_row22\" class=\"row_heading level0 row22\" >price</th>\n",
       "      <td id=\"T_62bf4_row22_col0\" class=\"data row22 col0\" >0.028791</td>\n",
       "      <td id=\"T_62bf4_row22_col1\" class=\"data row22 col1\" >-0.044112</td>\n",
       "      <td id=\"T_62bf4_row22_col2\" class=\"data row22 col2\" >-0.046951</td>\n",
       "      <td id=\"T_62bf4_row22_col3\" class=\"data row22 col3\" >0.240414</td>\n",
       "      <td id=\"T_62bf4_row22_col4\" class=\"data row22 col4\" >0.109173</td>\n",
       "      <td id=\"T_62bf4_row22_col5\" class=\"data row22 col5\" >-0.138674</td>\n",
       "      <td id=\"T_62bf4_row22_col6\" class=\"data row22 col6\" >0.164052</td>\n",
       "      <td id=\"T_62bf4_row22_col7\" class=\"data row22 col7\" >0.015178</td>\n",
       "      <td id=\"T_62bf4_row22_col8\" class=\"data row22 col8\" >0.157044</td>\n",
       "      <td id=\"T_62bf4_row22_col9\" class=\"data row22 col9\" >0.037354</td>\n",
       "      <td id=\"T_62bf4_row22_col10\" class=\"data row22 col10\" >-0.159508</td>\n",
       "      <td id=\"T_62bf4_row22_col11\" class=\"data row22 col11\" >0.107316</td>\n",
       "      <td id=\"T_62bf4_row22_col12\" class=\"data row22 col12\" >0.055144</td>\n",
       "      <td id=\"T_62bf4_row22_col13\" class=\"data row22 col13\" >0.026024</td>\n",
       "      <td id=\"T_62bf4_row22_col14\" class=\"data row22 col14\" >-0.008080</td>\n",
       "      <td id=\"T_62bf4_row22_col15\" class=\"data row22 col15\" >0.029858</td>\n",
       "      <td id=\"T_62bf4_row22_col16\" class=\"data row22 col16\" >0.084667</td>\n",
       "      <td id=\"T_62bf4_row22_col17\" class=\"data row22 col17\" >0.016789</td>\n",
       "      <td id=\"T_62bf4_row22_col18\" class=\"data row22 col18\" >0.000649</td>\n",
       "      <td id=\"T_62bf4_row22_col19\" class=\"data row22 col19\" >0.154673</td>\n",
       "      <td id=\"T_62bf4_row22_col20\" class=\"data row22 col20\" >0.166824</td>\n",
       "      <td id=\"T_62bf4_row22_col21\" class=\"data row22 col21\" >0.103591</td>\n",
       "      <td id=\"T_62bf4_row22_col22\" class=\"data row22 col22\" >1.000000</td>\n",
       "    </tr>\n",
       "  </tbody>\n",
       "</table>\n"
      ],
      "text/plain": [
       "<pandas.io.formats.style.Styler at 0x21f3a6dc4d0>"
      ]
     },
     "execution_count": 149,
     "metadata": {},
     "output_type": "execute_result"
    }
   ],
   "source": [
    "genero = games.iloc[:, 4:]\n",
    "precio = games['price']\n",
    "matriz = pd.concat([genero, precio], axis=1)\n",
    "corr = matriz.corr()\n",
    "corr.style.background_gradient()"
   ]
  },
  {
   "cell_type": "markdown",
   "metadata": {},
   "source": [
    "* La correlacion mas alta se da entre 'WebPublishing' y 'Design&Illustration' y entre 'SoftwareTraining' y 'Education'\n",
    "* La correlacion ente 'price' y los diferentes generos en muy baja, siendo las mas altas = {1 : 'Animation&Modeling'}, {2 : 'VideoProduction'}, {3 : 'Design&Illustration'}, al parecer todos ellos software de desarrollo"
   ]
  },
  {
   "cell_type": "markdown",
   "metadata": {},
   "source": [
    "# Top 10 generos mas frecuentes"
   ]
  },
  {
   "cell_type": "code",
   "execution_count": 150,
   "metadata": {},
   "outputs": [
    {
     "data": {
      "image/png": "[encoded data removed]",
      "text/plain": [
       "<Figure size 640x480 with 1 Axes>"
      ]
     },
     "metadata": {},
     "output_type": "display_data"
    }
   ],
   "source": [
    "colors = sns.color_palette('Blues_r')\n",
    "ax = matriz.iloc[:, :-1].sum().sort_values(ascending=False).head(10).plot(kind='bar', title='Top 10 - Games Genre', color=colors)\n",
    "ax.set_xlabel('Genero')\n",
    "ax.set_ylabel('Cantidad')\n",
    "ax.set_xticklabels(ax.get_xticklabels(), rotation=40, ha='right')\n",
    "plt.show()"
   ]
  },
  {
   "cell_type": "markdown",
   "metadata": {},
   "source": [
    "# Lanzamiento por año"
   ]
  },
  {
   "cell_type": "code",
   "execution_count": 151,
   "metadata": {},
   "outputs": [
    {
     "data": {
      "image/png": "[encoded data removed]",
      "text/plain": [
       "<Figure size 640x480 with 1 Axes>"
      ]
     },
     "metadata": {},
     "output_type": "display_data"
    }
   ],
   "source": [
    "colors = sns.color_palette('Blues_r')\n",
    "anio = games.groupby(games['release_date'].dt.year).count()\n",
    "plt.bar(anio.index, anio['title'])\n",
    "plt.xlabel('Año')\n",
    "plt.ylabel('Cantidad')\n",
    "plt.title('Lanzamientos por año')\n",
    "plt.show()"
   ]
  },
  {
   "cell_type": "markdown",
   "metadata": {},
   "source": [
    "* Se observa que la mayoria de los productos fueron lanzados despues del año 2015"
   ]
  },
  {
   "cell_type": "markdown",
   "metadata": {},
   "source": [
    "# Top 10 juegos mas jugados"
   ]
  },
  {
   "cell_type": "code",
   "execution_count": 152,
   "metadata": {},
   "outputs": [
    {
     "data": {
      "image/png": "[encoded data removed]",
      "text/plain": [
       "<Figure size 640x480 with 1 Axes>"
      ]
     },
     "metadata": {},
     "output_type": "display_data"
    }
   ],
   "source": [
    "colors = sns.color_palette('pastel')\n",
    "ax = items.groupby([\"item_id\"])['playtime_forever'].sum().sort_values(ascending=False)\\\n",
    "    .head(10)\\\n",
    "    .plot(kind='bar', title = 'Top 10 Juegos Mas Jugados por usuarios', color=colors)\n",
    "ax.set_xlabel('Id del juego')\n",
    "ax.set_ylabel('Conteo')\n",
    "ax.set_xticklabels(ax.get_xticklabels(),rotation=40, ha='right')\n",
    "plt.show()"
   ]
  },
  {
   "cell_type": "markdown",
   "metadata": {},
   "source": [
    "# Cantidad de Reviews Recomendados vs NO Recomendados"
   ]
  },
  {
   "cell_type": "code",
   "execution_count": 153,
   "metadata": {},
   "outputs": [
    {
     "data": {
      "image/png": "[encoded data removed]",
      "text/plain": [
       "<Figure size 640x480 with 1 Axes>"
      ]
     },
     "metadata": {},
     "output_type": "display_data"
    }
   ],
   "source": [
    "colors = sns.color_palette('pastel')\n",
    "\n",
    "ax =  reviews['recommend'].value_counts()\n",
    "plt.bar(ax.index, ax.values, color=colors)\n",
    "plt.xlabel('Recomendado')\n",
    "plt.ylabel('Cantidad de Reviews')\n",
    "plt.xticks([False, True], ['False', 'True'])\n",
    "plt.title('Cantidad de Reviews Recomendadas vs No Recomendadas')\n",
    "plt.show()"
   ]
  },
  {
   "cell_type": "markdown",
   "metadata": {},
   "source": [
    "# Analisis de sentimiento"
   ]
  },
  {
   "cell_type": "code",
   "execution_count": 154,
   "metadata": {},
   "outputs": [
    {
     "data": {
      "image/png": "[encoded data removed]",
      "text/plain": [
       "<Figure size 640x480 with 1 Axes>"
      ]
     },
     "metadata": {},
     "output_type": "display_data"
    }
   ],
   "source": [
    "colors = ['green', 'orange', 'red']\n",
    "df_rev_sentimiento = reviews.copy()\n",
    "df_rev_sentimiento['sentimient_analysis'] = df_rev_sentimiento['sentiment_analysis']\n",
    "sentimiento_counts = df_rev_sentimiento['sentiment_analysis'].value_counts()\n",
    "plt.bar(sentimiento_counts.index, sentimiento_counts.values, color=colors)\n",
    "plt.xlabel('Sentimiento')\n",
    "plt.ylabel('Cantidad de Revisiones')\n",
    "plt.xticks([0, 1, 2], ['Negativo', 'Neutral', 'Positivo'])\n",
    "plt.title('Cantidad de Revisiones por Sentimiento')\n",
    "plt.show()"
   ]
  },
  {
   "cell_type": "markdown",
   "metadata": {},
   "source": [
    "# Preparación del df para el modelo de recomendación"
   ]
  },
  {
   "cell_type": "markdown",
   "metadata": {},
   "source": [
    "El modelo va a hacer la recomendacion teniendo en cuenta el analisis de los generos, las recomendaciones, el analisis de sentimiento y el tiempo de juego."
   ]
  },
  {
   "cell_type": "markdown",
   "metadata": {},
   "source": [
    "# games"
   ]
  },
  {
   "cell_type": "code",
   "execution_count": 155,
   "metadata": {},
   "outputs": [
    {
     "name": "stdout",
     "output_type": "stream",
     "text": [
      "<class 'pandas.core.frame.DataFrame'>\n",
      "RangeIndex: 28658 entries, 0 to 28657\n",
      "Data columns (total 26 columns):\n",
      " #   Column                   Non-Null Count  Dtype         \n",
      "---  ------                   --------------  -----         \n",
      " 0   title                    28657 non-null  object        \n",
      " 1   release_date             28658 non-null  datetime64[ns]\n",
      " 2   price                    27613 non-null  float64       \n",
      " 3   item_id                  28658 non-null  object        \n",
      " 4   Accounting               28658 non-null  int64         \n",
      " 5   Action                   28658 non-null  int64         \n",
      " 6   Adventure                28658 non-null  int64         \n",
      " 7   Animation&amp;Modeling   28658 non-null  int64         \n",
      " 8   AudioProduction          28658 non-null  int64         \n",
      " 9   Casual                   28658 non-null  int64         \n",
      " 10  Design&amp;Illustration  28658 non-null  int64         \n",
      " 11  EarlyAccess              28658 non-null  int64         \n",
      " 12  Education                28658 non-null  int64         \n",
      " 13  FreetoPlay               28658 non-null  int64         \n",
      " 14  Indie                    28658 non-null  int64         \n",
      " 15  MassivelyMultiplayer     28658 non-null  int64         \n",
      " 16  PhotoEditing             28658 non-null  int64         \n",
      " 17  RPG                      28658 non-null  int64         \n",
      " 18  Racing                   28658 non-null  int64         \n",
      " 19  Simulation               28658 non-null  int64         \n",
      " 20  SoftwareTraining         28658 non-null  int64         \n",
      " 21  Sports                   28658 non-null  int64         \n",
      " 22  Strategy                 28658 non-null  int64         \n",
      " 23  Utilities                28658 non-null  int64         \n",
      " 24  VideoProduction          28658 non-null  int64         \n",
      " 25  WebPublishing            28658 non-null  int64         \n",
      "dtypes: datetime64[ns](1), float64(1), int64(22), object(2)\n",
      "memory usage: 5.7+ MB\n"
     ]
    }
   ],
   "source": [
    "games.info()"
   ]
  },
  {
   "cell_type": "code",
   "execution_count": 156,
   "metadata": {},
   "outputs": [
    {
     "data": {
      "text/html": [
       "<div>\n",
       "<style scoped>\n",
       "    .dataframe tbody tr th:only-of-type {\n",
       "        vertical-align: middle;\n",
       "    }\n",
       "\n",
       "    .dataframe tbody tr th {\n",
       "        vertical-align: top;\n",
       "    }\n",
       "\n",
       "    .dataframe thead th {\n",
       "        text-align: right;\n",
       "    }\n",
       "</style>\n",
       "<table border=\"1\" class=\"dataframe\">\n",
       "  <thead>\n",
       "    <tr style=\"text-align: right;\">\n",
       "      <th></th>\n",
       "      <th>item_id</th>\n",
       "      <th>title</th>\n",
       "    </tr>\n",
       "  </thead>\n",
       "  <tbody>\n",
       "    <tr>\n",
       "      <th>0</th>\n",
       "      <td>761140</td>\n",
       "      <td>Lost Summoner Kitty</td>\n",
       "    </tr>\n",
       "    <tr>\n",
       "      <th>1</th>\n",
       "      <td>643980</td>\n",
       "      <td>Ironbound</td>\n",
       "    </tr>\n",
       "    <tr>\n",
       "      <th>2</th>\n",
       "      <td>670290</td>\n",
       "      <td>Real Pool 3D - Poolians</td>\n",
       "    </tr>\n",
       "    <tr>\n",
       "      <th>3</th>\n",
       "      <td>767400</td>\n",
       "      <td>弹炸人2222</td>\n",
       "    </tr>\n",
       "    <tr>\n",
       "      <th>4</th>\n",
       "      <td>772540</td>\n",
       "      <td>Battle Royale Trainer</td>\n",
       "    </tr>\n",
       "  </tbody>\n",
       "</table>\n",
       "</div>"
      ],
      "text/plain": [
       "  item_id                    title\n",
       "0  761140      Lost Summoner Kitty\n",
       "1  643980                Ironbound\n",
       "2  670290  Real Pool 3D - Poolians\n",
       "3  767400                  弹炸人2222\n",
       "4  772540    Battle Royale Trainer"
      ]
     },
     "execution_count": 156,
     "metadata": {},
     "output_type": "execute_result"
    }
   ],
   "source": [
    "# Del DF games me quedo con 'item_id' y 'title'\n",
    "df_title = games[['item_id', 'title']]\n",
    "df_title.head()"
   ]
  },
  {
   "cell_type": "code",
   "execution_count": 157,
   "metadata": {},
   "outputs": [
    {
     "name": "stderr",
     "output_type": "stream",
     "text": [
      "C:\\Users\\dines\\AppData\\Local\\Temp\\ipykernel_3812\\1622096374.py:2: SettingWithCopyWarning: \n",
      "A value is trying to be set on a copy of a slice from a DataFrame.\n",
      "Try using .loc[row_indexer,col_indexer] = value instead\n",
      "\n",
      "See the caveats in the documentation: https://pandas.pydata.org/pandas-docs/stable/user_guide/indexing.html#returning-a-view-versus-a-copy\n",
      "  df_title['item_id'] = df_title['item_id'].astype(int)\n"
     ]
    }
   ],
   "source": [
    "# Cambio el tipo d dato para futuras consultas\n",
    "df_title['item_id'] = df_title['item_id'].astype(int)"
   ]
  },
  {
   "cell_type": "markdown",
   "metadata": {},
   "source": [
    "# reviews"
   ]
  },
  {
   "cell_type": "code",
   "execution_count": 158,
   "metadata": {},
   "outputs": [
    {
     "data": {
      "text/html": [
       "<div>\n",
       "<style scoped>\n",
       "    .dataframe tbody tr th:only-of-type {\n",
       "        vertical-align: middle;\n",
       "    }\n",
       "\n",
       "    .dataframe tbody tr th {\n",
       "        vertical-align: top;\n",
       "    }\n",
       "\n",
       "    .dataframe thead th {\n",
       "        text-align: right;\n",
       "    }\n",
       "</style>\n",
       "<table border=\"1\" class=\"dataframe\">\n",
       "  <thead>\n",
       "    <tr style=\"text-align: right;\">\n",
       "      <th></th>\n",
       "      <th>user_id</th>\n",
       "      <th>posted</th>\n",
       "      <th>item_id</th>\n",
       "      <th>recommend</th>\n",
       "      <th>sentiment_analysis</th>\n",
       "    </tr>\n",
       "  </thead>\n",
       "  <tbody>\n",
       "    <tr>\n",
       "      <th>0</th>\n",
       "      <td>76561197970982479</td>\n",
       "      <td>2011-11-05</td>\n",
       "      <td>1250</td>\n",
       "      <td>1</td>\n",
       "      <td>2</td>\n",
       "    </tr>\n",
       "    <tr>\n",
       "      <th>1</th>\n",
       "      <td>76561197970982479</td>\n",
       "      <td>2011-07-15</td>\n",
       "      <td>22200</td>\n",
       "      <td>1</td>\n",
       "      <td>2</td>\n",
       "    </tr>\n",
       "    <tr>\n",
       "      <th>2</th>\n",
       "      <td>76561197970982479</td>\n",
       "      <td>2011-04-21</td>\n",
       "      <td>43110</td>\n",
       "      <td>1</td>\n",
       "      <td>2</td>\n",
       "    </tr>\n",
       "    <tr>\n",
       "      <th>3</th>\n",
       "      <td>js41637</td>\n",
       "      <td>2014-06-24</td>\n",
       "      <td>251610</td>\n",
       "      <td>1</td>\n",
       "      <td>2</td>\n",
       "    </tr>\n",
       "    <tr>\n",
       "      <th>4</th>\n",
       "      <td>js41637</td>\n",
       "      <td>2013-09-08</td>\n",
       "      <td>227300</td>\n",
       "      <td>1</td>\n",
       "      <td>0</td>\n",
       "    </tr>\n",
       "  </tbody>\n",
       "</table>\n",
       "</div>"
      ],
      "text/plain": [
       "             user_id     posted item_id  recommend  sentiment_analysis\n",
       "0  76561197970982479 2011-11-05    1250          1                   2\n",
       "1  76561197970982479 2011-07-15   22200          1                   2\n",
       "2  76561197970982479 2011-04-21   43110          1                   2\n",
       "3            js41637 2014-06-24  251610          1                   2\n",
       "4            js41637 2013-09-08  227300          1                   0"
      ]
     },
     "execution_count": 158,
     "metadata": {},
     "output_type": "execute_result"
    }
   ],
   "source": [
    "reviews.head()"
   ]
  },
  {
   "cell_type": "code",
   "execution_count": 159,
   "metadata": {},
   "outputs": [
    {
     "name": "stdout",
     "output_type": "stream",
     "text": [
      "<class 'pandas.core.frame.DataFrame'>\n",
      "Int64Index: 48498 entries, 0 to 58401\n",
      "Data columns (total 5 columns):\n",
      " #   Column              Non-Null Count  Dtype         \n",
      "---  ------              --------------  -----         \n",
      " 0   user_id             48498 non-null  object        \n",
      " 1   posted              48498 non-null  datetime64[ns]\n",
      " 2   item_id             48498 non-null  object        \n",
      " 3   recommend           48498 non-null  int64         \n",
      " 4   sentiment_analysis  48498 non-null  int64         \n",
      "dtypes: datetime64[ns](1), int64(2), object(2)\n",
      "memory usage: 2.2+ MB\n"
     ]
    }
   ],
   "source": [
    "reviews.info()"
   ]
  },
  {
   "cell_type": "code",
   "execution_count": 160,
   "metadata": {},
   "outputs": [],
   "source": [
    "# Cambio el tipo de dato para poder combinar DFs\n",
    "reviews['item_id'] = reviews['item_id'].astype(int)"
   ]
  },
  {
   "cell_type": "markdown",
   "metadata": {},
   "source": [
    "Elimino la columna 'posted'"
   ]
  },
  {
   "cell_type": "code",
   "execution_count": 161,
   "metadata": {},
   "outputs": [],
   "source": [
    "reviews.drop(['posted'], axis=1, inplace=True)"
   ]
  },
  {
   "cell_type": "markdown",
   "metadata": {},
   "source": [
    "Con las columnas recommend, sentiment_analysis genero un rating"
   ]
  },
  {
   "cell_type": "code",
   "execution_count": 162,
   "metadata": {},
   "outputs": [],
   "source": [
    "reviews['rating'] = reviews['recommend'] + reviews['sentiment_analysis']"
   ]
  },
  {
   "cell_type": "markdown",
   "metadata": {},
   "source": [
    "Elimino las columnas 'recommend' y 'sentiment_analysis'"
   ]
  },
  {
   "cell_type": "code",
   "execution_count": 163,
   "metadata": {},
   "outputs": [],
   "source": [
    "reviews.drop(['recommend', 'sentiment_analysis'], axis=1, inplace=True)"
   ]
  },
  {
   "cell_type": "markdown",
   "metadata": {},
   "source": [
    "Tamaño del DF"
   ]
  },
  {
   "cell_type": "code",
   "execution_count": 164,
   "metadata": {},
   "outputs": [
    {
     "data": {
      "text/plain": [
       "(48498, 3)"
      ]
     },
     "execution_count": 164,
     "metadata": {},
     "output_type": "execute_result"
    }
   ],
   "source": [
    "reviews.shape"
   ]
  },
  {
   "cell_type": "markdown",
   "metadata": {},
   "source": [
    "item_id únicos"
   ]
  },
  {
   "cell_type": "code",
   "execution_count": 165,
   "metadata": {},
   "outputs": [
    {
     "data": {
      "text/plain": [
       "2897"
      ]
     },
     "execution_count": 165,
     "metadata": {},
     "output_type": "execute_result"
    }
   ],
   "source": [
    "item = reviews['item_id'].unique()\n",
    "len(item)"
   ]
  },
  {
   "cell_type": "markdown",
   "metadata": {},
   "source": [
    "Calificaciones por usuario"
   ]
  },
  {
   "cell_type": "code",
   "execution_count": 167,
   "metadata": {},
   "outputs": [
    {
     "data": {
      "text/html": [
       "<div>\n",
       "<style scoped>\n",
       "    .dataframe tbody tr th:only-of-type {\n",
       "        vertical-align: middle;\n",
       "    }\n",
       "\n",
       "    .dataframe tbody tr th {\n",
       "        vertical-align: top;\n",
       "    }\n",
       "\n",
       "    .dataframe thead th {\n",
       "        text-align: right;\n",
       "    }\n",
       "</style>\n",
       "<table border=\"1\" class=\"dataframe\">\n",
       "  <thead>\n",
       "    <tr style=\"text-align: right;\">\n",
       "      <th></th>\n",
       "      <th>user_id</th>\n",
       "      <th>item_id</th>\n",
       "      <th>rating</th>\n",
       "    </tr>\n",
       "  </thead>\n",
       "  <tbody>\n",
       "    <tr>\n",
       "      <th>0</th>\n",
       "      <td>--000--</td>\n",
       "      <td>1</td>\n",
       "      <td>1</td>\n",
       "    </tr>\n",
       "    <tr>\n",
       "      <th>1</th>\n",
       "      <td>--ace--</td>\n",
       "      <td>2</td>\n",
       "      <td>2</td>\n",
       "    </tr>\n",
       "    <tr>\n",
       "      <th>2</th>\n",
       "      <td>--ionex--</td>\n",
       "      <td>1</td>\n",
       "      <td>1</td>\n",
       "    </tr>\n",
       "    <tr>\n",
       "      <th>3</th>\n",
       "      <td>-2SV-vuLB-Kg</td>\n",
       "      <td>5</td>\n",
       "      <td>5</td>\n",
       "    </tr>\n",
       "    <tr>\n",
       "      <th>4</th>\n",
       "      <td>-Beave-</td>\n",
       "      <td>1</td>\n",
       "      <td>1</td>\n",
       "    </tr>\n",
       "  </tbody>\n",
       "</table>\n",
       "</div>"
      ],
      "text/plain": [
       "        user_id  item_id  rating\n",
       "0       --000--        1       1\n",
       "1       --ace--        2       2\n",
       "2     --ionex--        1       1\n",
       "3  -2SV-vuLB-Kg        5       5\n",
       "4       -Beave-        1       1"
      ]
     },
     "execution_count": 167,
     "metadata": {},
     "output_type": "execute_result"
    }
   ],
   "source": [
    "users = reviews.groupby(['user_id']).count().reset_index()\n",
    "users.head()"
   ]
  },
  {
   "cell_type": "code",
   "execution_count": 168,
   "metadata": {},
   "outputs": [
    {
     "data": {
      "image/png": "[encoded data removed]",
      "text/plain": [
       "<Figure size 640x480 with 1 Axes>"
      ]
     },
     "metadata": {},
     "output_type": "display_data"
    }
   ],
   "source": [
    "plt.hist(users.rating, log= True)\n",
    "plt.title('Calificaciones por usuario')\n",
    "plt.show()"
   ]
  },
  {
   "cell_type": "markdown",
   "metadata": {},
   "source": [
    "Distribucion de calificaciones"
   ]
  },
  {
   "cell_type": "code",
   "execution_count": 169,
   "metadata": {},
   "outputs": [
    {
     "data": {
      "image/png": "[encoded data removed]",
      "text/plain": [
       "<Figure size 640x480 with 1 Axes>"
      ]
     },
     "metadata": {},
     "output_type": "display_data"
    }
   ],
   "source": [
    "reviews['rating'].hist()\n",
    "plt.title('Distribución de calificaciones')\n",
    "plt.show()"
   ]
  },
  {
   "cell_type": "markdown",
   "metadata": {},
   "source": [
    "### Item con mas calificaciones"
   ]
  },
  {
   "cell_type": "code",
   "execution_count": 170,
   "metadata": {},
   "outputs": [
    {
     "data": {
      "text/html": [
       "<div>\n",
       "<style scoped>\n",
       "    .dataframe tbody tr th:only-of-type {\n",
       "        vertical-align: middle;\n",
       "    }\n",
       "\n",
       "    .dataframe tbody tr th {\n",
       "        vertical-align: top;\n",
       "    }\n",
       "\n",
       "    .dataframe thead th {\n",
       "        text-align: right;\n",
       "    }\n",
       "</style>\n",
       "<table border=\"1\" class=\"dataframe\">\n",
       "  <thead>\n",
       "    <tr style=\"text-align: right;\">\n",
       "      <th></th>\n",
       "      <th>user_id</th>\n",
       "      <th>rating</th>\n",
       "    </tr>\n",
       "    <tr>\n",
       "      <th>item_id</th>\n",
       "      <th></th>\n",
       "      <th></th>\n",
       "    </tr>\n",
       "  </thead>\n",
       "  <tbody>\n",
       "    <tr>\n",
       "      <th>10</th>\n",
       "      <td>50</td>\n",
       "      <td>50</td>\n",
       "    </tr>\n",
       "    <tr>\n",
       "      <th>20</th>\n",
       "      <td>15</td>\n",
       "      <td>15</td>\n",
       "    </tr>\n",
       "    <tr>\n",
       "      <th>30</th>\n",
       "      <td>4</td>\n",
       "      <td>4</td>\n",
       "    </tr>\n",
       "    <tr>\n",
       "      <th>40</th>\n",
       "      <td>1</td>\n",
       "      <td>1</td>\n",
       "    </tr>\n",
       "    <tr>\n",
       "      <th>50</th>\n",
       "      <td>4</td>\n",
       "      <td>4</td>\n",
       "    </tr>\n",
       "  </tbody>\n",
       "</table>\n",
       "</div>"
      ],
      "text/plain": [
       "         user_id  rating\n",
       "item_id                 \n",
       "10            50      50\n",
       "20            15      15\n",
       "30             4       4\n",
       "40             1       1\n",
       "50             4       4"
      ]
     },
     "execution_count": 170,
     "metadata": {},
     "output_type": "execute_result"
    }
   ],
   "source": [
    "game = reviews.groupby(['item_id']).count()\n",
    "game.head()"
   ]
  },
  {
   "cell_type": "code",
   "execution_count": 171,
   "metadata": {},
   "outputs": [
    {
     "name": "stdout",
     "output_type": "stream",
     "text": [
      "Victoria I Complete\n"
     ]
    }
   ],
   "source": [
    "id_max = game['user_id'].idxmax()\n",
    "id_max = int(id_max)\n",
    "print(df_title.loc[id_max].title)"
   ]
  },
  {
   "cell_type": "markdown",
   "metadata": {},
   "source": [
    "### Item con menos calificaciones"
   ]
  },
  {
   "cell_type": "code",
   "execution_count": 172,
   "metadata": {},
   "outputs": [
    {
     "name": "stdout",
     "output_type": "stream",
     "text": [
      "Mirt. Tales of the Cold Land. Chapter 2\n"
     ]
    }
   ],
   "source": [
    "id_min = game['user_id'].idxmin()\n",
    "id_min = int(id_min)\n",
    "print(df_title.loc[id_min].title)"
   ]
  },
  {
   "cell_type": "markdown",
   "metadata": {},
   "source": [
    "### Item por popularidad"
   ]
  },
  {
   "cell_type": "code",
   "execution_count": 174,
   "metadata": {},
   "outputs": [
    {
     "data": {
      "text/html": [
       "<div>\n",
       "<style scoped>\n",
       "    .dataframe tbody tr th:only-of-type {\n",
       "        vertical-align: middle;\n",
       "    }\n",
       "\n",
       "    .dataframe tbody tr th {\n",
       "        vertical-align: top;\n",
       "    }\n",
       "\n",
       "    .dataframe thead th {\n",
       "        text-align: right;\n",
       "    }\n",
       "</style>\n",
       "<table border=\"1\" class=\"dataframe\">\n",
       "  <thead>\n",
       "    <tr style=\"text-align: right;\">\n",
       "      <th></th>\n",
       "      <th>item_id</th>\n",
       "      <th>Jugados</th>\n",
       "    </tr>\n",
       "  </thead>\n",
       "  <tbody>\n",
       "    <tr>\n",
       "      <th>20</th>\n",
       "      <td>440</td>\n",
       "      <td>3401</td>\n",
       "    </tr>\n",
       "    <tr>\n",
       "      <th>26</th>\n",
       "      <td>730</td>\n",
       "      <td>2979</td>\n",
       "    </tr>\n",
       "    <tr>\n",
       "      <th>78</th>\n",
       "      <td>4000</td>\n",
       "      <td>1551</td>\n",
       "    </tr>\n",
       "    <tr>\n",
       "      <th>23</th>\n",
       "      <td>570</td>\n",
       "      <td>1402</td>\n",
       "    </tr>\n",
       "    <tr>\n",
       "      <th>982</th>\n",
       "      <td>218620</td>\n",
       "      <td>994</td>\n",
       "    </tr>\n",
       "    <tr>\n",
       "      <th>2079</th>\n",
       "      <td>304930</td>\n",
       "      <td>892</td>\n",
       "    </tr>\n",
       "    <tr>\n",
       "      <th>22</th>\n",
       "      <td>550</td>\n",
       "      <td>703</td>\n",
       "    </tr>\n",
       "    <tr>\n",
       "      <th>1479</th>\n",
       "      <td>252490</td>\n",
       "      <td>676</td>\n",
       "    </tr>\n",
       "    <tr>\n",
       "      <th>1022</th>\n",
       "      <td>221100</td>\n",
       "      <td>673</td>\n",
       "    </tr>\n",
       "    <tr>\n",
       "      <th>684</th>\n",
       "      <td>105600</td>\n",
       "      <td>671</td>\n",
       "    </tr>\n",
       "  </tbody>\n",
       "</table>\n",
       "</div>"
      ],
      "text/plain": [
       "      item_id  Jugados\n",
       "20        440     3401\n",
       "26        730     2979\n",
       "78       4000     1551\n",
       "23        570     1402\n",
       "982    218620      994\n",
       "2079   304930      892\n",
       "22        550      703\n",
       "1479   252490      676\n",
       "1022   221100      673\n",
       "684    105600      671"
      ]
     },
     "execution_count": 174,
     "metadata": {},
     "output_type": "execute_result"
    }
   ],
   "source": [
    "rev_games = reviews.groupby(['item_id']).count().reset_index()\n",
    "rev_games.sort_values('user_id', ascending = False, inplace = True)\n",
    "rev_games['Jugados'] = rev_games['user_id']\n",
    "rev_games.drop(columns = ['user_id','rating'], inplace = True)\n",
    "rev_games.head(10)"
   ]
  },
  {
   "cell_type": "code",
   "execution_count": 175,
   "metadata": {},
   "outputs": [
    {
     "data": {
      "image/png": "[encoded data removed]",
      "text/plain": [
       "<Figure size 800x400 with 1 Axes>"
      ]
     },
     "metadata": {},
     "output_type": "display_data"
    }
   ],
   "source": [
    "plt.figure(figsize = (8,4))\n",
    "\n",
    "rev_games.Jugados[rev_games.Jugados<1000].hist(log = True, bins = 20)\n",
    "plt.title('Distribución de la cantidad de jugados')\n",
    "\n",
    "plt.show()"
   ]
  },
  {
   "cell_type": "markdown",
   "metadata": {},
   "source": [
    "# Modelo de recomendación item-item"
   ]
  },
  {
   "cell_type": "markdown",
   "metadata": {},
   "source": [
    "Para el modelo de recomendacion voy a analizar la columna 'genres' de cada item y recomienda en base a ello"
   ]
  },
  {
   "cell_type": "code",
   "execution_count": 186,
   "metadata": {},
   "outputs": [
    {
     "data": {
      "text/html": [
       "<div>\n",
       "<style scoped>\n",
       "    .dataframe tbody tr th:only-of-type {\n",
       "        vertical-align: middle;\n",
       "    }\n",
       "\n",
       "    .dataframe tbody tr th {\n",
       "        vertical-align: top;\n",
       "    }\n",
       "\n",
       "    .dataframe thead th {\n",
       "        text-align: right;\n",
       "    }\n",
       "</style>\n",
       "<table border=\"1\" class=\"dataframe\">\n",
       "  <thead>\n",
       "    <tr style=\"text-align: right;\">\n",
       "      <th></th>\n",
       "      <th>genres</th>\n",
       "      <th>title</th>\n",
       "      <th>release_date</th>\n",
       "      <th>price</th>\n",
       "      <th>item_id</th>\n",
       "    </tr>\n",
       "  </thead>\n",
       "  <tbody>\n",
       "    <tr>\n",
       "      <th>0</th>\n",
       "      <td>[Action, Casual, Indie, Simulation, Strategy]</td>\n",
       "      <td>Lost Summoner Kitty</td>\n",
       "      <td>2018-01-04</td>\n",
       "      <td>4.99</td>\n",
       "      <td>761140</td>\n",
       "    </tr>\n",
       "    <tr>\n",
       "      <th>1</th>\n",
       "      <td>[Free to Play, Indie, RPG, Strategy]</td>\n",
       "      <td>Ironbound</td>\n",
       "      <td>2018-01-04</td>\n",
       "      <td>0.00</td>\n",
       "      <td>643980</td>\n",
       "    </tr>\n",
       "    <tr>\n",
       "      <th>2</th>\n",
       "      <td>[Casual, Free to Play, Indie, Simulation, Sports]</td>\n",
       "      <td>Real Pool 3D - Poolians</td>\n",
       "      <td>2017-07-24</td>\n",
       "      <td>0.00</td>\n",
       "      <td>670290</td>\n",
       "    </tr>\n",
       "    <tr>\n",
       "      <th>3</th>\n",
       "      <td>[Action, Adventure, Casual]</td>\n",
       "      <td>弹炸人2222</td>\n",
       "      <td>2017-12-07</td>\n",
       "      <td>0.99</td>\n",
       "      <td>767400</td>\n",
       "    </tr>\n",
       "    <tr>\n",
       "      <th>4</th>\n",
       "      <td>[Action, Adventure, Simulation]</td>\n",
       "      <td>Battle Royale Trainer</td>\n",
       "      <td>2018-01-04</td>\n",
       "      <td>3.99</td>\n",
       "      <td>772540</td>\n",
       "    </tr>\n",
       "  </tbody>\n",
       "</table>\n",
       "</div>"
      ],
      "text/plain": [
       "                                              genres                    title  \\\n",
       "0      [Action, Casual, Indie, Simulation, Strategy]      Lost Summoner Kitty   \n",
       "1               [Free to Play, Indie, RPG, Strategy]                Ironbound   \n",
       "2  [Casual, Free to Play, Indie, Simulation, Sports]  Real Pool 3D - Poolians   \n",
       "3                        [Action, Adventure, Casual]                  弹炸人2222   \n",
       "4                    [Action, Adventure, Simulation]    Battle Royale Trainer   \n",
       "\n",
       "  release_date  price item_id  \n",
       "0   2018-01-04   4.99  761140  \n",
       "1   2018-01-04   0.00  643980  \n",
       "2   2017-07-24   0.00  670290  \n",
       "3   2017-12-07   0.99  767400  \n",
       "4   2018-01-04   3.99  772540  "
      ]
     },
     "execution_count": 186,
     "metadata": {},
     "output_type": "execute_result"
    }
   ],
   "source": [
    "model = pd.read_parquet('datasets/games_1.parquet')\n",
    "model.head()"
   ]
  },
  {
   "cell_type": "code",
   "execution_count": 187,
   "metadata": {},
   "outputs": [],
   "source": [
    "# Elimino las columnas que no voy a utilizar\n",
    "model.drop(['release_date', 'price'], axis=1, inplace=True)"
   ]
  },
  {
   "cell_type": "code",
   "execution_count": 188,
   "metadata": {},
   "outputs": [],
   "source": [
    "# Cambio el tipo de dato a la columna 'item_id' para poder combinar model con reviews\n",
    "model['item_id'] = model['item_id'].astype(int)"
   ]
  },
  {
   "cell_type": "code",
   "execution_count": 189,
   "metadata": {},
   "outputs": [],
   "source": [
    "# Agrupo el DF reviews por 'item_id' y sumo los valores del rating\n",
    "reviews = reviews.groupby('item_id')['rating'].sum().reset_index()"
   ]
  },
  {
   "cell_type": "code",
   "execution_count": 190,
   "metadata": {},
   "outputs": [],
   "source": [
    "# Combino model y reviews\n",
    "model = pd.merge(model, reviews, on='item_id' )"
   ]
  },
  {
   "cell_type": "code",
   "execution_count": 191,
   "metadata": {},
   "outputs": [
    {
     "data": {
      "text/html": [
       "<div>\n",
       "<style scoped>\n",
       "    .dataframe tbody tr th:only-of-type {\n",
       "        vertical-align: middle;\n",
       "    }\n",
       "\n",
       "    .dataframe tbody tr th {\n",
       "        vertical-align: top;\n",
       "    }\n",
       "\n",
       "    .dataframe thead th {\n",
       "        text-align: right;\n",
       "    }\n",
       "</style>\n",
       "<table border=\"1\" class=\"dataframe\">\n",
       "  <thead>\n",
       "    <tr style=\"text-align: right;\">\n",
       "      <th></th>\n",
       "      <th>genres</th>\n",
       "      <th>title</th>\n",
       "      <th>item_id</th>\n",
       "      <th>rating</th>\n",
       "    </tr>\n",
       "  </thead>\n",
       "  <tbody>\n",
       "    <tr>\n",
       "      <th>0</th>\n",
       "      <td>[Action]</td>\n",
       "      <td>Half-Life</td>\n",
       "      <td>70</td>\n",
       "      <td>125</td>\n",
       "    </tr>\n",
       "    <tr>\n",
       "      <th>1</th>\n",
       "      <td>[Action, Indie, RPG]</td>\n",
       "      <td>The Ship: Murder Party</td>\n",
       "      <td>2400</td>\n",
       "      <td>44</td>\n",
       "    </tr>\n",
       "    <tr>\n",
       "      <th>2</th>\n",
       "      <td>[Action]</td>\n",
       "      <td>Advent Rising</td>\n",
       "      <td>3800</td>\n",
       "      <td>1</td>\n",
       "    </tr>\n",
       "    <tr>\n",
       "      <th>3</th>\n",
       "      <td>[Indie, Strategy]</td>\n",
       "      <td>DEFCON</td>\n",
       "      <td>1520</td>\n",
       "      <td>14</td>\n",
       "    </tr>\n",
       "    <tr>\n",
       "      <th>4</th>\n",
       "      <td>[Action, Indie, RPG]</td>\n",
       "      <td>The Ship: Single Player</td>\n",
       "      <td>2420</td>\n",
       "      <td>6</td>\n",
       "    </tr>\n",
       "  </tbody>\n",
       "</table>\n",
       "</div>"
      ],
      "text/plain": [
       "                 genres                    title  item_id  rating\n",
       "0              [Action]                Half-Life       70     125\n",
       "1  [Action, Indie, RPG]   The Ship: Murder Party     2400      44\n",
       "2              [Action]            Advent Rising     3800       1\n",
       "3     [Indie, Strategy]                   DEFCON     1520      14\n",
       "4  [Action, Indie, RPG]  The Ship: Single Player     2420       6"
      ]
     },
     "execution_count": 191,
     "metadata": {},
     "output_type": "execute_result"
    }
   ],
   "source": [
    "model.head()"
   ]
  },
  {
   "cell_type": "code",
   "execution_count": 192,
   "metadata": {},
   "outputs": [],
   "source": [
    "# Cambio el tipo de dato para poder aplicarle .lower()\n",
    "model['genres'] = model['genres'].astype(str)\n",
    "model['genres'] = model['genres'].apply(lambda x: x.lower())"
   ]
  },
  {
   "cell_type": "code",
   "execution_count": 193,
   "metadata": {},
   "outputs": [],
   "source": [
    "# Hago un seleccion aleatoria para el modelo reducido\n",
    "model_reduced = model.sample(1000)"
   ]
  },
  {
   "cell_type": "code",
   "execution_count": 194,
   "metadata": {},
   "outputs": [],
   "source": [
    "savefile_path = 'model.parquet'\n",
    "model.to_parquet(savefile_path, engine='pyarrow')"
   ]
  },
  {
   "cell_type": "code",
   "execution_count": 195,
   "metadata": {},
   "outputs": [],
   "source": [
    "savefile_path = 'model_reduced.parquet'\n",
    "model_reduced.to_parquet(savefile_path, engine='pyarrow')"
   ]
  },
  {
   "cell_type": "code",
   "execution_count": 196,
   "metadata": {},
   "outputs": [],
   "source": [
    "from sklearn.feature_extraction.text import CountVectorizer\n",
    "cv = CountVectorizer(max_features=45, stop_words=\"english\")"
   ]
  },
  {
   "cell_type": "markdown",
   "metadata": {},
   "source": [
    "#### Vectorizamos para pasar texto a un vector lo que nos permite haces comparaciones entre ellos y encontrar similitudes"
   ]
  },
  {
   "cell_type": "code",
   "execution_count": 197,
   "metadata": {},
   "outputs": [],
   "source": [
    "vectors = cv.fit_transform(model_reduced['genres']).toarray()"
   ]
  },
  {
   "cell_type": "markdown",
   "metadata": {},
   "source": [
    "Aplico el coseno de similitud"
   ]
  },
  {
   "cell_type": "code",
   "execution_count": 198,
   "metadata": {},
   "outputs": [],
   "source": [
    "from sklearn.metrics.pairwise import cosine_similarity\n",
    "similarity=cosine_similarity(vectors)"
   ]
  },
  {
   "cell_type": "markdown",
   "metadata": {},
   "source": [
    "Exporto el modelo entrenado"
   ]
  },
  {
   "cell_type": "code",
   "execution_count": 199,
   "metadata": {},
   "outputs": [
    {
     "data": {
      "text/plain": [
       "['model_trained.pkl']"
      ]
     },
     "execution_count": 199,
     "metadata": {},
     "output_type": "execute_result"
    }
   ],
   "source": [
    "import joblib\n",
    "joblib.dump(similarity,'model_trained.pkl')"
   ]
  },
  {
   "cell_type": "markdown",
   "metadata": {},
   "source": [
    "Pruebo la función de recomendacion"
   ]
  },
  {
   "cell_type": "code",
   "execution_count": 210,
   "metadata": {},
   "outputs": [],
   "source": [
    "def recommend(id):\n",
    "    try:\n",
    "        if not isinstance(id, int):\n",
    "            raise ValueError({\"Error\" :\"El tipo de dato debe ser un entero.\"})\n",
    "        similarity = joblib.load('model_trained.pkl')\n",
    "        idx = model[model[\"item_id\"] == id].index[0]\n",
    "        distances = similarity[idx]   \n",
    "        game = sorted(list(enumerate(distances)), reverse=True, key= lambda x:x[1])[1:6]\n",
    "        respon = {\"El juego ingresado es\" : model[model[\"item_id\"]==id].iloc[0,1],\n",
    "                \"Aqui las recomendaciones\": []}\n",
    "        for i in game:\n",
    "            respon[\"Aqui las recomendaciones\"].append(model.iloc[i[0]].title)\n",
    "        \n",
    "        return respon\n",
    "    except ValueError as e:\n",
    "                return str(e)"
   ]
  },
  {
   "cell_type": "code",
   "execution_count": 212,
   "metadata": {},
   "outputs": [
    {
     "ename": "IndexError",
     "evalue": "index 2446 is out of bounds for axis 0 with size 1000",
     "output_type": "error",
     "traceback": [
      "\u001b[1;31m---------------------------------------------------------------------------\u001b[0m",
      "\u001b[1;31mIndexError\u001b[0m                                Traceback (most recent call last)",
      "\u001b[1;32mc:\\Users\\dines\\Desktop\\PI_ML_OPS-FT\\EDA.ipynb Celda 74\u001b[0m line \u001b[0;36m1\n\u001b[1;32m----> <a href='vscode-notebook-cell:/c%3A/Users/dines/Desktop/PI_ML_OPS-FT/EDA.ipynb#Y236sZmlsZQ%3D%3D?line=0'>1</a>\u001b[0m recommend(\u001b[39m10\u001b[39;49m)\n",
      "\u001b[1;32mc:\\Users\\dines\\Desktop\\PI_ML_OPS-FT\\EDA.ipynb Celda 74\u001b[0m line \u001b[0;36m7\n\u001b[0;32m      <a href='vscode-notebook-cell:/c%3A/Users/dines/Desktop/PI_ML_OPS-FT/EDA.ipynb#Y236sZmlsZQ%3D%3D?line=4'>5</a>\u001b[0m similarity \u001b[39m=\u001b[39m joblib\u001b[39m.\u001b[39mload(\u001b[39m'\u001b[39m\u001b[39mmodel_trained.pkl\u001b[39m\u001b[39m'\u001b[39m)\n\u001b[0;32m      <a href='vscode-notebook-cell:/c%3A/Users/dines/Desktop/PI_ML_OPS-FT/EDA.ipynb#Y236sZmlsZQ%3D%3D?line=5'>6</a>\u001b[0m idx \u001b[39m=\u001b[39m model[model[\u001b[39m\"\u001b[39m\u001b[39mitem_id\u001b[39m\u001b[39m\"\u001b[39m] \u001b[39m==\u001b[39m \u001b[39mid\u001b[39m]\u001b[39m.\u001b[39mindex[\u001b[39m0\u001b[39m]\n\u001b[1;32m----> <a href='vscode-notebook-cell:/c%3A/Users/dines/Desktop/PI_ML_OPS-FT/EDA.ipynb#Y236sZmlsZQ%3D%3D?line=6'>7</a>\u001b[0m distances \u001b[39m=\u001b[39m similarity[idx]   \n\u001b[0;32m      <a href='vscode-notebook-cell:/c%3A/Users/dines/Desktop/PI_ML_OPS-FT/EDA.ipynb#Y236sZmlsZQ%3D%3D?line=7'>8</a>\u001b[0m game \u001b[39m=\u001b[39m \u001b[39msorted\u001b[39m(\u001b[39mlist\u001b[39m(\u001b[39menumerate\u001b[39m(distances)), reverse\u001b[39m=\u001b[39m\u001b[39mTrue\u001b[39;00m, key\u001b[39m=\u001b[39m \u001b[39mlambda\u001b[39;00m x:x[\u001b[39m1\u001b[39m])[\u001b[39m1\u001b[39m:\u001b[39m6\u001b[39m]\n\u001b[0;32m      <a href='vscode-notebook-cell:/c%3A/Users/dines/Desktop/PI_ML_OPS-FT/EDA.ipynb#Y236sZmlsZQ%3D%3D?line=8'>9</a>\u001b[0m respon \u001b[39m=\u001b[39m {\u001b[39m\"\u001b[39m\u001b[39mEl juego ingresado es\u001b[39m\u001b[39m\"\u001b[39m : model[model[\u001b[39m\"\u001b[39m\u001b[39mitem_id\u001b[39m\u001b[39m\"\u001b[39m]\u001b[39m==\u001b[39m\u001b[39mid\u001b[39m]\u001b[39m.\u001b[39miloc[\u001b[39m0\u001b[39m,\u001b[39m1\u001b[39m],\n\u001b[0;32m     <a href='vscode-notebook-cell:/c%3A/Users/dines/Desktop/PI_ML_OPS-FT/EDA.ipynb#Y236sZmlsZQ%3D%3D?line=9'>10</a>\u001b[0m         \u001b[39m\"\u001b[39m\u001b[39mAqui las recomendaciones\u001b[39m\u001b[39m\"\u001b[39m: []}\n",
      "\u001b[1;31mIndexError\u001b[0m: index 2446 is out of bounds for axis 0 with size 1000"
     ]
    }
   ],
   "source": [
    "recommend(10)"
   ]
  },
  {
   "cell_type": "code",
   "execution_count": null,
   "metadata": {},
   "outputs": [],
   "source": [
    "except IndexError:\n",
    "        print(\"Top 5 recomendados\")\n",
    "        new_game = model[model[\"item_id\"] == id_item]\n",
    "        df_combined = pd.concat([model,new_game])\n",
    "        vectors = cv.fit_transform(df_combined[\"genres\"]).toarray()\n",
    "        similarity=cosine_similarity(vectors)\n",
    "        idx = df_combined[df_combined[\"item_id\"] == id_item].index[0]\n",
    "        distances = similarity[idx]   \n",
    "        game = sorted(list(enumerate(distances)), reverse=True, key= lambda x:x[1])[1:6]\n",
    "        respon = {\"El juego ingresado es\" : df_combined[df_combined[\"item_id\"]==id_item].iloc[0,1],\n",
    "        \"Aqui tus recomendaciones\": []}\n",
    "        for i in game:\n",
    "            respon[\"Aqui tus recomendaciones\"].append(df_combined.iloc[i[0]].title)\n",
    "            \n",
    "        return respon"
   ]
  },
  {
   "cell_type": "code",
   "execution_count": null,
   "metadata": {},
   "outputs": [],
   "source": [
    "# importo las librerias necesarias\n",
    "from sklearn.metrics import mean_squared_error\n",
    "from sklearn.model_selection import train_test_split\n",
    "from sklearn.neighbors import NearestNeighbors\n",
    "import sklearn.metrics"
   ]
  }
 ],
 "metadata": {
  "kernelspec": {
   "display_name": "Python 3",
   "language": "python",
   "name": "python3"
  },
  "language_info": {
   "codemirror_mode": {
    "name": "ipython",
    "version": 3
   },
   "file_extension": ".py",
   "mimetype": "text/x-python",
   "name": "python",
   "nbconvert_exporter": "python",
   "pygments_lexer": "ipython3",
   "version": "3.11.4"
  },
  "orig_nbformat": 4
 },
 "nbformat": 4,
 "nbformat_minor": 2
}
